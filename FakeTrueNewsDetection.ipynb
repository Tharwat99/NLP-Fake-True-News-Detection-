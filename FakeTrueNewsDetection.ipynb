{
  "nbformat": 4,
  "nbformat_minor": 0,
  "metadata": {
    "kernelspec": {
      "display_name": "Python 3",
      "language": "python",
      "name": "python3"
    },
    "language_info": {
      "codemirror_mode": {
        "name": "ipython",
        "version": 3
      },
      "file_extension": ".py",
      "mimetype": "text/x-python",
      "name": "python",
      "nbconvert_exporter": "python",
      "pygments_lexer": "ipython3",
      "version": "3.7.6"
    },
    "colab": {
      "name": "FakeTrueNewsDetection.ipynb",
      "provenance": [],
      "collapsed_sections": []
    },
    "accelerator": "GPU"
  },
  "cells": [
    {
      "cell_type": "markdown",
      "metadata": {
        "id": "JZz7O-bkL_SN"
      },
      "source": [
        "# **Binary-Class Text Classification For Fake News**"
      ]
    },
    {
      "cell_type": "markdown",
      "metadata": {
        "id": "3kNFI7s167sV"
      },
      "source": [
        "**Import libraries**\n"
      ]
    },
    {
      "cell_type": "code",
      "metadata": {
        "id": "y_RXtj1eMCb3"
      },
      "source": [
        "# basic lib\n",
        "import matplotlib.pyplot as plt\n",
        "import seaborn as sns\n",
        "import random\n",
        "import pandas as pd\n",
        "import numpy as np\n",
        "\n",
        "# nlp preprocessing using tensorflow lib \n",
        "import nltk\n",
        "import re\n",
        "from wordcloud import WordCloud\n",
        "from tensorflow.keras.preprocessing.text import Tokenizer\n",
        "from tensorflow.keras.preprocessing.sequence import pad_sequences\n",
        "from tensorflow.keras.models import Sequential\n",
        "from tensorflow.keras.layers import Dense, Embedding, LSTM, Conv1D, MaxPool1D\n",
        "from sklearn.model_selection import train_test_split\n",
        "from sklearn.metrics import classification_report, accuracy_score\n",
        "import gensim\n",
        "from gensim.utils import simple_preprocess\n",
        "from gensim.parsing.preprocessing import STOPWORDS\n",
        "import string \n",
        "punctation = string.punctuation \n"
      ],
      "execution_count": 91,
      "outputs": []
    },
    {
      "cell_type": "markdown",
      "metadata": {
        "id": "WBD0ZY2wMA-B"
      },
      "source": [
        "**Defining our datasets**"
      ]
    },
    {
      "cell_type": "code",
      "metadata": {
        "id": "4sDgbZNRMA-C"
      },
      "source": [
        "true = pd.read_csv('https://raw.githubusercontent.com/laxmimerit/fake-real-news-dataset/main/data/True.csv')\n",
        "fake = pd.read_csv('https://raw.githubusercontent.com/laxmimerit/fake-real-news-dataset/main/data/Fake.csv')"
      ],
      "execution_count": 92,
      "outputs": []
    },
    {
      "cell_type": "markdown",
      "metadata": {
        "id": "JPQRZ2KbMWSX"
      },
      "source": [
        "**EDA for true news**"
      ]
    },
    {
      "cell_type": "code",
      "metadata": {
        "id": "WvGqHRFCMA-E",
        "colab": {
          "base_uri": "https://localhost:8080/",
          "height": 204
        },
        "outputId": "97709a54-7334-429e-887d-1e9fc6903b83"
      },
      "source": [
        "true.head()"
      ],
      "execution_count": 93,
      "outputs": [
        {
          "output_type": "execute_result",
          "data": {
            "text/html": [
              "<div>\n",
              "<style scoped>\n",
              "    .dataframe tbody tr th:only-of-type {\n",
              "        vertical-align: middle;\n",
              "    }\n",
              "\n",
              "    .dataframe tbody tr th {\n",
              "        vertical-align: top;\n",
              "    }\n",
              "\n",
              "    .dataframe thead th {\n",
              "        text-align: right;\n",
              "    }\n",
              "</style>\n",
              "<table border=\"1\" class=\"dataframe\">\n",
              "  <thead>\n",
              "    <tr style=\"text-align: right;\">\n",
              "      <th></th>\n",
              "      <th>title</th>\n",
              "      <th>text</th>\n",
              "      <th>subject</th>\n",
              "      <th>date</th>\n",
              "    </tr>\n",
              "  </thead>\n",
              "  <tbody>\n",
              "    <tr>\n",
              "      <th>0</th>\n",
              "      <td>As U.S. budget fight looms, Republicans flip t...</td>\n",
              "      <td>WASHINGTON (Reuters) - The head of a conservat...</td>\n",
              "      <td>politicsNews</td>\n",
              "      <td>December 31, 2017</td>\n",
              "    </tr>\n",
              "    <tr>\n",
              "      <th>1</th>\n",
              "      <td>U.S. military to accept transgender recruits o...</td>\n",
              "      <td>WASHINGTON (Reuters) - Transgender people will...</td>\n",
              "      <td>politicsNews</td>\n",
              "      <td>December 29, 2017</td>\n",
              "    </tr>\n",
              "    <tr>\n",
              "      <th>2</th>\n",
              "      <td>Senior U.S. Republican senator: 'Let Mr. Muell...</td>\n",
              "      <td>WASHINGTON (Reuters) - The special counsel inv...</td>\n",
              "      <td>politicsNews</td>\n",
              "      <td>December 31, 2017</td>\n",
              "    </tr>\n",
              "    <tr>\n",
              "      <th>3</th>\n",
              "      <td>FBI Russia probe helped by Australian diplomat...</td>\n",
              "      <td>WASHINGTON (Reuters) - Trump campaign adviser ...</td>\n",
              "      <td>politicsNews</td>\n",
              "      <td>December 30, 2017</td>\n",
              "    </tr>\n",
              "    <tr>\n",
              "      <th>4</th>\n",
              "      <td>Trump wants Postal Service to charge 'much mor...</td>\n",
              "      <td>SEATTLE/WASHINGTON (Reuters) - President Donal...</td>\n",
              "      <td>politicsNews</td>\n",
              "      <td>December 29, 2017</td>\n",
              "    </tr>\n",
              "  </tbody>\n",
              "</table>\n",
              "</div>"
            ],
            "text/plain": [
              "                                               title  ...                date\n",
              "0  As U.S. budget fight looms, Republicans flip t...  ...  December 31, 2017 \n",
              "1  U.S. military to accept transgender recruits o...  ...  December 29, 2017 \n",
              "2  Senior U.S. Republican senator: 'Let Mr. Muell...  ...  December 31, 2017 \n",
              "3  FBI Russia probe helped by Australian diplomat...  ...  December 30, 2017 \n",
              "4  Trump wants Postal Service to charge 'much mor...  ...  December 29, 2017 \n",
              "\n",
              "[5 rows x 4 columns]"
            ]
          },
          "metadata": {},
          "execution_count": 93
        }
      ]
    },
    {
      "cell_type": "code",
      "metadata": {
        "colab": {
          "base_uri": "https://localhost:8080/"
        },
        "id": "FUrwmYrx7WjF",
        "outputId": "6411f433-e2d3-4675-f246-a15c00c8c8df"
      },
      "source": [
        "true.info()"
      ],
      "execution_count": 94,
      "outputs": [
        {
          "output_type": "stream",
          "name": "stdout",
          "text": [
            "<class 'pandas.core.frame.DataFrame'>\n",
            "RangeIndex: 21417 entries, 0 to 21416\n",
            "Data columns (total 4 columns):\n",
            " #   Column   Non-Null Count  Dtype \n",
            "---  ------   --------------  ----- \n",
            " 0   title    21417 non-null  object\n",
            " 1   text     21417 non-null  object\n",
            " 2   subject  21417 non-null  object\n",
            " 3   date     21417 non-null  object\n",
            "dtypes: object(4)\n",
            "memory usage: 669.4+ KB\n"
          ]
        }
      ]
    },
    {
      "cell_type": "code",
      "metadata": {
        "colab": {
          "base_uri": "https://localhost:8080/"
        },
        "id": "rC48ffY6E9Xs",
        "outputId": "1fb8a0a0-9e93-4fcb-f71b-eb5703680cfb"
      },
      "source": [
        "true.columns"
      ],
      "execution_count": 95,
      "outputs": [
        {
          "output_type": "execute_result",
          "data": {
            "text/plain": [
              "Index(['title', 'text', 'subject', 'date'], dtype='object')"
            ]
          },
          "metadata": {},
          "execution_count": 95
        }
      ]
    },
    {
      "cell_type": "code",
      "metadata": {
        "colab": {
          "base_uri": "https://localhost:8080/"
        },
        "id": "23XgyTggEvES",
        "outputId": "b2901587-f0c1-42cd-8187-02d2e9564195"
      },
      "source": [
        "print(\"Number of rows before remove duplicates : {}\".format(true.shape[0]))"
      ],
      "execution_count": 135,
      "outputs": [
        {
          "output_type": "stream",
          "name": "stdout",
          "text": [
            "Number of rows before remove duplicates : 21211\n"
          ]
        }
      ]
    },
    {
      "cell_type": "code",
      "metadata": {
        "colab": {
          "base_uri": "https://localhost:8080/",
          "height": 314
        },
        "id": "n-Ph9XUuRTWF",
        "outputId": "d16ab273-ee5a-45c8-e14b-27480efa5b6c"
      },
      "source": [
        "print(\"Duplicated rows before remove them : \")\n",
        "true[true.duplicated(keep=False)].sort_values(by=\"text\").head(8)"
      ],
      "execution_count": 108,
      "outputs": [
        {
          "output_type": "stream",
          "name": "stdout",
          "text": [
            "Duplicated rows before remove them : \n"
          ]
        },
        {
          "output_type": "execute_result",
          "data": {
            "text/html": [
              "<div>\n",
              "<style scoped>\n",
              "    .dataframe tbody tr th:only-of-type {\n",
              "        vertical-align: middle;\n",
              "    }\n",
              "\n",
              "    .dataframe tbody tr th {\n",
              "        vertical-align: top;\n",
              "    }\n",
              "\n",
              "    .dataframe thead th {\n",
              "        text-align: right;\n",
              "    }\n",
              "</style>\n",
              "<table border=\"1\" class=\"dataframe\">\n",
              "  <thead>\n",
              "    <tr style=\"text-align: right;\">\n",
              "      <th></th>\n",
              "      <th>title</th>\n",
              "      <th>text</th>\n",
              "      <th>subject</th>\n",
              "      <th>date</th>\n",
              "    </tr>\n",
              "  </thead>\n",
              "  <tbody>\n",
              "    <tr>\n",
              "      <th>11816</th>\n",
              "      <td>Russia detains Norwegian citizen over suspecte...</td>\n",
              "      <td>(Corrects a Dec. 19 story to make clear in gr...</td>\n",
              "      <td>worldnews</td>\n",
              "      <td>December 19, 2017</td>\n",
              "    </tr>\n",
              "    <tr>\n",
              "      <th>11720</th>\n",
              "      <td>Russia detains Norwegian citizen over suspecte...</td>\n",
              "      <td>(Corrects a Dec. 19 story to make clear in gr...</td>\n",
              "      <td>worldnews</td>\n",
              "      <td>December 19, 2017</td>\n",
              "    </tr>\n",
              "    <tr>\n",
              "      <th>11777</th>\n",
              "      <td>UK's May to visit China around Jan. 31: Sky News</td>\n",
              "      <td>(Reuters) - British Prime Minister Theresa May...</td>\n",
              "      <td>worldnews</td>\n",
              "      <td>December 20, 2017</td>\n",
              "    </tr>\n",
              "    <tr>\n",
              "      <th>11681</th>\n",
              "      <td>UK's May to visit China around Jan. 31: Sky News</td>\n",
              "      <td>(Reuters) - British Prime Minister Theresa May...</td>\n",
              "      <td>worldnews</td>\n",
              "      <td>December 20, 2017</td>\n",
              "    </tr>\n",
              "    <tr>\n",
              "      <th>11800</th>\n",
              "      <td>Germany's conservatives, SPD start talks Jan. ...</td>\n",
              "      <td>(Reuters) - German Chancellor Angela Merkel s ...</td>\n",
              "      <td>worldnews</td>\n",
              "      <td>December 20, 2017</td>\n",
              "    </tr>\n",
              "    <tr>\n",
              "      <th>11704</th>\n",
              "      <td>Germany's conservatives, SPD start talks Jan. ...</td>\n",
              "      <td>(Reuters) - German Chancellor Angela Merkel s ...</td>\n",
              "      <td>worldnews</td>\n",
              "      <td>December 20, 2017</td>\n",
              "    </tr>\n",
              "    <tr>\n",
              "      <th>4033</th>\n",
              "      <td>Highlights: The Trump presidency on April 28 a...</td>\n",
              "      <td>(Reuters) - Highlights for U.S. President Dona...</td>\n",
              "      <td>politicsNews</td>\n",
              "      <td>April 28, 2017</td>\n",
              "    </tr>\n",
              "    <tr>\n",
              "      <th>3998</th>\n",
              "      <td>Highlights: The Trump presidency on April 28 a...</td>\n",
              "      <td>(Reuters) - Highlights for U.S. President Dona...</td>\n",
              "      <td>politicsNews</td>\n",
              "      <td>April 28, 2017</td>\n",
              "    </tr>\n",
              "  </tbody>\n",
              "</table>\n",
              "</div>"
            ],
            "text/plain": [
              "                                                   title  ...                date\n",
              "11816  Russia detains Norwegian citizen over suspecte...  ...  December 19, 2017 \n",
              "11720  Russia detains Norwegian citizen over suspecte...  ...  December 19, 2017 \n",
              "11777   UK's May to visit China around Jan. 31: Sky News  ...  December 20, 2017 \n",
              "11681   UK's May to visit China around Jan. 31: Sky News  ...  December 20, 2017 \n",
              "11800  Germany's conservatives, SPD start talks Jan. ...  ...  December 20, 2017 \n",
              "11704  Germany's conservatives, SPD start talks Jan. ...  ...  December 20, 2017 \n",
              "4033   Highlights: The Trump presidency on April 28 a...  ...     April 28, 2017 \n",
              "3998   Highlights: The Trump presidency on April 28 a...  ...     April 28, 2017 \n",
              "\n",
              "[8 rows x 4 columns]"
            ]
          },
          "metadata": {},
          "execution_count": 108
        }
      ]
    },
    {
      "cell_type": "code",
      "metadata": {
        "colab": {
          "base_uri": "https://localhost:8080/"
        },
        "id": "daO2QXVkAnHr",
        "outputId": "8bcc60b1-898e-40b4-8467-9ed6a10125fd"
      },
      "source": [
        "print(\"Number of duplicates in data : {}\".format(len(true[true.duplicated()]))) "
      ],
      "execution_count": 109,
      "outputs": [
        {
          "output_type": "stream",
          "name": "stdout",
          "text": [
            "Number of duplicates in data : 206\n"
          ]
        }
      ]
    },
    {
      "cell_type": "code",
      "metadata": {
        "id": "IBRAowWJAygW"
      },
      "source": [
        "#remove duplicated rows\n",
        "true.drop_duplicates(inplace=True)"
      ],
      "execution_count": 110,
      "outputs": []
    },
    {
      "cell_type": "code",
      "metadata": {
        "colab": {
          "base_uri": "https://localhost:8080/"
        },
        "id": "VyTGVrMaE1at",
        "outputId": "4334af0a-dff4-4991-81d2-d0d099e853da"
      },
      "source": [
        "print(\"Number of duplicates in data after using drop_duplicates: {}\".format(len(true[true.duplicated()]))) "
      ],
      "execution_count": 112,
      "outputs": [
        {
          "output_type": "stream",
          "name": "stdout",
          "text": [
            "Number of duplicates in data after using drop_duplicates: 0\n"
          ]
        }
      ]
    },
    {
      "cell_type": "markdown",
      "metadata": {
        "id": "tYWxUgWIEzu0"
      },
      "source": [
        ""
      ]
    },
    {
      "cell_type": "code",
      "metadata": {
        "colab": {
          "base_uri": "https://localhost:8080/"
        },
        "id": "-WB3ZPXPFdAo",
        "outputId": "34d96fba-f9ff-45da-eea8-d9baa76b4355"
      },
      "source": [
        "#data classifies into two classes \"politicsNews\" and \"worldnews\"\n",
        "true.subject.value_counts()"
      ],
      "execution_count": 113,
      "outputs": [
        {
          "output_type": "execute_result",
          "data": {
            "text/plain": [
              "politicsNews    11220\n",
              "worldnews        9991\n",
              "Name: subject, dtype: int64"
            ]
          },
          "metadata": {},
          "execution_count": 113
        }
      ]
    },
    {
      "cell_type": "code",
      "metadata": {
        "colab": {
          "base_uri": "https://localhost:8080/",
          "height": 421
        },
        "id": "hPfSaW4kFhE3",
        "outputId": "f746d70a-cac8-4da9-c13d-1e5482129cb9"
      },
      "source": [
        "# count plot \"Histogram\" of Frequencies of Subjects for true news\n",
        "plt.figure(figsize=(10,6))\n",
        "plt.title(\"Frequencies of Subjects for true news\")\n",
        "sns.countplot(x = 'subject', data = true)\n",
        "plt.xlabel('Subject Type')"
      ],
      "execution_count": 114,
      "outputs": [
        {
          "output_type": "execute_result",
          "data": {
            "text/plain": [
              "Text(0.5, 0, 'Subject Type')"
            ]
          },
          "metadata": {},
          "execution_count": 114
        },
        {
          "output_type": "display_data",
          "data": {
            "image/png": "[encoded data removed]",
            "text/plain": [
              "<Figure size 720x432 with 1 Axes>"
            ]
          },
          "metadata": {
            "needs_background": "light"
          }
        }
      ]
    },
    {
      "cell_type": "code",
      "metadata": {
        "id": "sHF3y7PGHSmn"
      },
      "source": [
        "true_text = ' '.join(true.text.tolist())\n",
        "true_text"
      ],
      "execution_count": 115,
      "outputs": []
    },
    {
      "cell_type": "code",
      "metadata": {
        "colab": {
          "base_uri": "https://localhost:8080/",
          "height": 407
        },
        "id": "Aq1M989OHSlw",
        "outputId": "c296b0bf-c5ba-4cc1-d360-80a802d6bd73"
      },
      "source": [
        "wordcloud_true = WordCloud().generate(true_text)\n",
        "plt.figure(figsize=(10,10))\n",
        "plt.imshow(wordcloud_true)\n",
        "plt.axis('off')\n",
        "plt.title(\"Word Cloud of true news\")\n",
        "plt.tight_layout(pad=0)\n",
        "plt.show()"
      ],
      "execution_count": 116,
      "outputs": [
        {
          "output_type": "display_data",
          "data": {
            "image/png": "[encoded data removed]",
            "text/plain": [
              "<Figure size 720x720 with 1 Axes>"
            ]
          },
          "metadata": {
            "needs_background": "light"
          }
        }
      ]
    },
    {
      "cell_type": "markdown",
      "metadata": {
        "id": "s3H4XYOlL9iz"
      },
      "source": [
        "**Clean True and Preprocessing news dataset**"
      ]
    },
    {
      "cell_type": "code",
      "metadata": {
        "colab": {
          "base_uri": "https://localhost:8080/",
          "height": 204
        },
        "id": "ahpXJjDfHShl",
        "outputId": "f8dcc057-6c96-4381-97db-a8a6374ffb34"
      },
      "source": [
        "true.sample(5)"
      ],
      "execution_count": 117,
      "outputs": [
        {
          "output_type": "execute_result",
          "data": {
            "text/html": [
              "<div>\n",
              "<style scoped>\n",
              "    .dataframe tbody tr th:only-of-type {\n",
              "        vertical-align: middle;\n",
              "    }\n",
              "\n",
              "    .dataframe tbody tr th {\n",
              "        vertical-align: top;\n",
              "    }\n",
              "\n",
              "    .dataframe thead th {\n",
              "        text-align: right;\n",
              "    }\n",
              "</style>\n",
              "<table border=\"1\" class=\"dataframe\">\n",
              "  <thead>\n",
              "    <tr style=\"text-align: right;\">\n",
              "      <th></th>\n",
              "      <th>title</th>\n",
              "      <th>text</th>\n",
              "      <th>subject</th>\n",
              "      <th>date</th>\n",
              "    </tr>\n",
              "  </thead>\n",
              "  <tbody>\n",
              "    <tr>\n",
              "      <th>3402</th>\n",
              "      <td>Deutsche Bank ignores U.S. Trump/Russia query:...</td>\n",
              "      <td>FRANKFURT (Reuters) - Germany’s largest bank h...</td>\n",
              "      <td>politicsNews</td>\n",
              "      <td>June 4, 2017</td>\n",
              "    </tr>\n",
              "    <tr>\n",
              "      <th>7635</th>\n",
              "      <td>Trump mounts bid to turn Clinton controversy t...</td>\n",
              "      <td>PHOENIX (Reuters) - Sensing a potential turnin...</td>\n",
              "      <td>politicsNews</td>\n",
              "      <td>October 30, 2016</td>\n",
              "    </tr>\n",
              "    <tr>\n",
              "      <th>16888</th>\n",
              "      <td>Three police officers killed, eight injured in...</td>\n",
              "      <td>CAIRO (Reuters) - Three police officers were k...</td>\n",
              "      <td>worldnews</td>\n",
              "      <td>October 20, 2017</td>\n",
              "    </tr>\n",
              "    <tr>\n",
              "      <th>9154</th>\n",
              "      <td>House panel to consider measure censuring IRS ...</td>\n",
              "      <td>WASHINGTON (Reuters) - A Republican-controlled...</td>\n",
              "      <td>politicsNews</td>\n",
              "      <td>June 13, 2016</td>\n",
              "    </tr>\n",
              "    <tr>\n",
              "      <th>12479</th>\n",
              "      <td>Bulgaria freezes assets of independent media p...</td>\n",
              "      <td>SOFIA (Reuters) - Bulgaria has frozen assets a...</td>\n",
              "      <td>worldnews</td>\n",
              "      <td>December 12, 2017</td>\n",
              "    </tr>\n",
              "  </tbody>\n",
              "</table>\n",
              "</div>"
            ],
            "text/plain": [
              "                                                   title  ...                date\n",
              "3402   Deutsche Bank ignores U.S. Trump/Russia query:...  ...       June 4, 2017 \n",
              "7635   Trump mounts bid to turn Clinton controversy t...  ...   October 30, 2016 \n",
              "16888  Three police officers killed, eight injured in...  ...   October 20, 2017 \n",
              "9154   House panel to consider measure censuring IRS ...  ...      June 13, 2016 \n",
              "12479  Bulgaria freezes assets of independent media p...  ...  December 12, 2017 \n",
              "\n",
              "[5 rows x 4 columns]"
            ]
          },
          "metadata": {},
          "execution_count": 117
        }
      ]
    },
    {
      "cell_type": "markdown",
      "metadata": {
        "id": "MpxL-fDHNgD8"
      },
      "source": [
        "**Detect the news without publisher**"
      ]
    },
    {
      "cell_type": "code",
      "metadata": {
        "id": "z1d6qEi9HSgv"
      },
      "source": [
        "unknow_pubs = []\n",
        "for i, row in enumerate(true.text.values):\n",
        "  try:\n",
        "    record = row.split('-', maxsplit = 1)\n",
        "    record[1]\n",
        "    assert(len(record[0]) < 120)\n",
        "  except:\n",
        "    unknow_pubs.append(i)"
      ],
      "execution_count": 119,
      "outputs": []
    },
    {
      "cell_type": "code",
      "metadata": {
        "colab": {
          "base_uri": "https://localhost:8080/"
        },
        "id": "t96aRLpdHSdM",
        "outputId": "41429f9a-ced3-477c-9897-db6d33dd2e4b"
      },
      "source": [
        "len(unknow_pubs)"
      ],
      "execution_count": 120,
      "outputs": [
        {
          "output_type": "execute_result",
          "data": {
            "text/plain": [
              "221"
            ]
          },
          "metadata": {},
          "execution_count": 120
        }
      ]
    },
    {
      "cell_type": "code",
      "metadata": {
        "colab": {
          "base_uri": "https://localhost:8080/"
        },
        "id": "B0OMTq_0HScT",
        "outputId": "76027f95-8b27-4aab-f866-e13ac399e6b2"
      },
      "source": [
        "true.iloc[unknow_pubs].text"
      ],
      "execution_count": 121,
      "outputs": [
        {
          "output_type": "execute_result",
          "data": {
            "text/plain": [
              "7        The following statements were posted to the ve...\n",
              "8        The following statements were posted to the ve...\n",
              "12       The following statements were posted to the ve...\n",
              "13       The following statements were posted to the ve...\n",
              "14        (In Dec. 25 story, in second paragraph, corre...\n",
              "                               ...                        \n",
              "20135     (Story corrects to million from billion in pa...\n",
              "20500     (This Sept 8 story corrects headline, clarifi...\n",
              "20667     (Story refiles to add dropped word  not , in ...\n",
              "21246     (Story corrects third paragraph to show Mosul...\n",
              "21339     (Story corrects to fix spelling in paragraph ...\n",
              "Name: text, Length: 221, dtype: object"
            ]
          },
          "metadata": {},
          "execution_count": 121
        }
      ]
    },
    {
      "cell_type": "code",
      "metadata": {
        "id": "B4T8ra1kTCK_"
      },
      "source": [
        "pubs = []\n",
        "temp_text = []\n",
        "for index, row in enumerate(true.text.values):\n",
        "  if index in unknow_pubs:\n",
        "    temp_text.append(row)\n",
        "    pubs.append('unk')\n",
        "  else:\n",
        "    record = row.split('-', maxsplit = 1)\n",
        "    temp_text.append(record[1].strip())\n",
        "    pubs.append(record[0].strip()) "
      ],
      "execution_count": 123,
      "outputs": []
    },
    {
      "cell_type": "code",
      "metadata": {
        "id": "CPDp1ztyTCJa"
      },
      "source": [
        "true['text'] = temp_text\n",
        "true['publisher'] = pubs"
      ],
      "execution_count": 124,
      "outputs": []
    },
    {
      "cell_type": "code",
      "metadata": {
        "colab": {
          "base_uri": "https://localhost:8080/",
          "height": 204
        },
        "id": "a5B-chMIWx4Q",
        "outputId": "5acf87ac-55f9-4830-9686-4e7edc775063"
      },
      "source": [
        "true.sample(5)"
      ],
      "execution_count": 125,
      "outputs": [
        {
          "output_type": "execute_result",
          "data": {
            "text/html": [
              "<div>\n",
              "<style scoped>\n",
              "    .dataframe tbody tr th:only-of-type {\n",
              "        vertical-align: middle;\n",
              "    }\n",
              "\n",
              "    .dataframe tbody tr th {\n",
              "        vertical-align: top;\n",
              "    }\n",
              "\n",
              "    .dataframe thead th {\n",
              "        text-align: right;\n",
              "    }\n",
              "</style>\n",
              "<table border=\"1\" class=\"dataframe\">\n",
              "  <thead>\n",
              "    <tr style=\"text-align: right;\">\n",
              "      <th></th>\n",
              "      <th>title</th>\n",
              "      <th>text</th>\n",
              "      <th>subject</th>\n",
              "      <th>date</th>\n",
              "      <th>publisher</th>\n",
              "    </tr>\n",
              "  </thead>\n",
              "  <tbody>\n",
              "    <tr>\n",
              "      <th>1287</th>\n",
              "      <td>Republicans eye alternatives for getting to 20...</td>\n",
              "      <td>Republican lawmakers are considering indirect ...</td>\n",
              "      <td>politicsNews</td>\n",
              "      <td>October 12, 2017</td>\n",
              "      <td>WASHINGTON (Reuters)</td>\n",
              "    </tr>\n",
              "    <tr>\n",
              "      <th>15842</th>\n",
              "      <td>UK parliament to consider Northern Ireland bud...</td>\n",
              "      <td>The British government expects to bring a budg...</td>\n",
              "      <td>worldnews</td>\n",
              "      <td>November 2, 2017</td>\n",
              "      <td>LONDON (Reuters)</td>\n",
              "    </tr>\n",
              "    <tr>\n",
              "      <th>14255</th>\n",
              "      <td>Yemen Houthis say Sanaa airport repaired, read...</td>\n",
              "      <td>Yemen s Sanaa airport, damaged in an air strik...</td>\n",
              "      <td>worldnews</td>\n",
              "      <td>November 21, 2017</td>\n",
              "      <td>ADEN (Reuters)</td>\n",
              "    </tr>\n",
              "    <tr>\n",
              "      <th>12850</th>\n",
              "      <td>'This is not a life': migrants stranded on Gre...</td>\n",
              "      <td>Syrian migrant Bashar Wakaa and his heavily pr...</td>\n",
              "      <td>worldnews</td>\n",
              "      <td>December 7, 2017</td>\n",
              "      <td>LESBOS, Greece (Reuters)</td>\n",
              "    </tr>\n",
              "    <tr>\n",
              "      <th>7235</th>\n",
              "      <td>Chicago City Council passes mayor's 2017 budget</td>\n",
              "      <td>The Chicago City Council on Wednesday approved...</td>\n",
              "      <td>politicsNews</td>\n",
              "      <td>November 16, 2016</td>\n",
              "      <td>CHICAGO (Reuters)</td>\n",
              "    </tr>\n",
              "  </tbody>\n",
              "</table>\n",
              "</div>"
            ],
            "text/plain": [
              "                                                   title  ...                 publisher\n",
              "1287   Republicans eye alternatives for getting to 20...  ...      WASHINGTON (Reuters)\n",
              "15842  UK parliament to consider Northern Ireland bud...  ...          LONDON (Reuters)\n",
              "14255  Yemen Houthis say Sanaa airport repaired, read...  ...            ADEN (Reuters)\n",
              "12850  'This is not a life': migrants stranded on Gre...  ...  LESBOS, Greece (Reuters)\n",
              "7235     Chicago City Council passes mayor's 2017 budget  ...         CHICAGO (Reuters)\n",
              "\n",
              "[5 rows x 5 columns]"
            ]
          },
          "metadata": {},
          "execution_count": 125
        }
      ]
    },
    {
      "cell_type": "code",
      "metadata": {
        "id": "i_Xr-2luWx3i"
      },
      "source": [
        "true_empty_text = [i for i, text in enumerate(true.text.tolist()) if str(text).strip() == '']"
      ],
      "execution_count": 126,
      "outputs": []
    },
    {
      "cell_type": "code",
      "metadata": {
        "colab": {
          "base_uri": "https://localhost:8080/"
        },
        "id": "Hh1CV0xNWw6A",
        "outputId": "c4b27099-ea49-4f7e-e50c-97ea441e3f52"
      },
      "source": [
        "true_empty_text"
      ],
      "execution_count": 127,
      "outputs": [
        {
          "output_type": "execute_result",
          "data": {
            "text/plain": [
              "[8924]"
            ]
          },
          "metadata": {},
          "execution_count": 127
        }
      ]
    },
    {
      "cell_type": "code",
      "metadata": {
        "colab": {
          "base_uri": "https://localhost:8080/",
          "height": 80
        },
        "id": "ieMST9Y-dZ2o",
        "outputId": "5b596636-9ebd-4ca0-d740-7797309121a6"
      },
      "source": [
        "true.iloc[true_empty_text]"
      ],
      "execution_count": 128,
      "outputs": [
        {
          "output_type": "execute_result",
          "data": {
            "text/html": [
              "<div>\n",
              "<style scoped>\n",
              "    .dataframe tbody tr th:only-of-type {\n",
              "        vertical-align: middle;\n",
              "    }\n",
              "\n",
              "    .dataframe tbody tr th {\n",
              "        vertical-align: top;\n",
              "    }\n",
              "\n",
              "    .dataframe thead th {\n",
              "        text-align: right;\n",
              "    }\n",
              "</style>\n",
              "<table border=\"1\" class=\"dataframe\">\n",
              "  <thead>\n",
              "    <tr style=\"text-align: right;\">\n",
              "      <th></th>\n",
              "      <th>title</th>\n",
              "      <th>text</th>\n",
              "      <th>subject</th>\n",
              "      <th>date</th>\n",
              "      <th>publisher</th>\n",
              "    </tr>\n",
              "  </thead>\n",
              "  <tbody>\n",
              "    <tr>\n",
              "      <th>8970</th>\n",
              "      <td>Graphic: Supreme Court roundup</td>\n",
              "      <td></td>\n",
              "      <td>politicsNews</td>\n",
              "      <td>June 16, 2016</td>\n",
              "      <td>unk</td>\n",
              "    </tr>\n",
              "  </tbody>\n",
              "</table>\n",
              "</div>"
            ],
            "text/plain": [
              "                               title text  ...            date publisher\n",
              "8970  Graphic: Supreme Court roundup       ...  June 16, 2016        unk\n",
              "\n",
              "[1 rows x 5 columns]"
            ]
          },
          "metadata": {},
          "execution_count": 128
        }
      ]
    },
    {
      "cell_type": "code",
      "metadata": {
        "id": "hYyLYrAqgp4x"
      },
      "source": [
        "true['text'] = true['title'] + \" \" + true['text'] "
      ],
      "execution_count": 129,
      "outputs": []
    },
    {
      "cell_type": "code",
      "metadata": {
        "id": "6mXc3LQJi2Ua"
      },
      "source": [
        "true['text'] = true['text'].apply(lambda x : str(x).lower())"
      ],
      "execution_count": 130,
      "outputs": []
    },
    {
      "cell_type": "code",
      "metadata": {
        "id": "F57hI3Gaj89x"
      },
      "source": [
        "true['class'] = 1"
      ],
      "execution_count": 131,
      "outputs": []
    },
    {
      "cell_type": "code",
      "metadata": {
        "id": "BE6qQz7hkb_-"
      },
      "source": [
        "true = true[['text', 'class']]"
      ],
      "execution_count": 132,
      "outputs": []
    },
    {
      "cell_type": "code",
      "metadata": {
        "colab": {
          "base_uri": "https://localhost:8080/",
          "height": 204
        },
        "id": "bAKqN5C2iVgd",
        "outputId": "219036b9-cafe-46d5-bb4c-bcb1235bd8a3"
      },
      "source": [
        "true.sample(5)"
      ],
      "execution_count": 133,
      "outputs": [
        {
          "output_type": "execute_result",
          "data": {
            "text/html": [
              "<div>\n",
              "<style scoped>\n",
              "    .dataframe tbody tr th:only-of-type {\n",
              "        vertical-align: middle;\n",
              "    }\n",
              "\n",
              "    .dataframe tbody tr th {\n",
              "        vertical-align: top;\n",
              "    }\n",
              "\n",
              "    .dataframe thead th {\n",
              "        text-align: right;\n",
              "    }\n",
              "</style>\n",
              "<table border=\"1\" class=\"dataframe\">\n",
              "  <thead>\n",
              "    <tr style=\"text-align: right;\">\n",
              "      <th></th>\n",
              "      <th>text</th>\n",
              "      <th>class</th>\n",
              "    </tr>\n",
              "  </thead>\n",
              "  <tbody>\n",
              "    <tr>\n",
              "      <th>14317</th>\n",
              "      <td>china supports cambodia's crackdown on politic...</td>\n",
              "      <td>1</td>\n",
              "    </tr>\n",
              "    <tr>\n",
              "      <th>20978</th>\n",
              "      <td>vietnam protests over chinese live-fire drills...</td>\n",
              "      <td>1</td>\n",
              "    </tr>\n",
              "    <tr>\n",
              "      <th>1335</th>\n",
              "      <td>pentagon says diplomatic tension with turkey n...</td>\n",
              "      <td>1</td>\n",
              "    </tr>\n",
              "    <tr>\n",
              "      <th>9744</th>\n",
              "      <td>white house 'deeply' concerned about china law...</td>\n",
              "      <td>1</td>\n",
              "    </tr>\n",
              "    <tr>\n",
              "      <th>3216</th>\n",
              "      <td>u.s. weighs sanctions on countries doing busin...</td>\n",
              "      <td>1</td>\n",
              "    </tr>\n",
              "  </tbody>\n",
              "</table>\n",
              "</div>"
            ],
            "text/plain": [
              "                                                    text  class\n",
              "14317  china supports cambodia's crackdown on politic...      1\n",
              "20978  vietnam protests over chinese live-fire drills...      1\n",
              "1335   pentagon says diplomatic tension with turkey n...      1\n",
              "9744   white house 'deeply' concerned about china law...      1\n",
              "3216   u.s. weighs sanctions on countries doing busin...      1"
            ]
          },
          "metadata": {},
          "execution_count": 133
        }
      ]
    },
    {
      "cell_type": "code",
      "metadata": {
        "colab": {
          "base_uri": "https://localhost:8080/",
          "height": 979
        },
        "id": "nG_mYj1ITBsH",
        "outputId": "f6fa40cf-794f-47bf-b374-88112f16909e"
      },
      "source": [
        "true[true.duplicated(keep= False)].sort_values(by=['text'])\n"
      ],
      "execution_count": 134,
      "outputs": [
        {
          "output_type": "execute_result",
          "data": {
            "text/html": [
              "<div>\n",
              "<style scoped>\n",
              "    .dataframe tbody tr th:only-of-type {\n",
              "        vertical-align: middle;\n",
              "    }\n",
              "\n",
              "    .dataframe tbody tr th {\n",
              "        vertical-align: top;\n",
              "    }\n",
              "\n",
              "    .dataframe thead th {\n",
              "        text-align: right;\n",
              "    }\n",
              "</style>\n",
              "<table border=\"1\" class=\"dataframe\">\n",
              "  <thead>\n",
              "    <tr style=\"text-align: right;\">\n",
              "      <th></th>\n",
              "      <th>text</th>\n",
              "      <th>class</th>\n",
              "    </tr>\n",
              "  </thead>\n",
              "  <tbody>\n",
              "    <tr>\n",
              "      <th>19277</th>\n",
              "      <td>china says to ban some petroleum exports to no...</td>\n",
              "      <td>1</td>\n",
              "    </tr>\n",
              "    <tr>\n",
              "      <th>1594</th>\n",
              "      <td>china says to ban some petroleum exports to no...</td>\n",
              "      <td>1</td>\n",
              "    </tr>\n",
              "    <tr>\n",
              "      <th>15307</th>\n",
              "      <td>china's xi says will persist with korean penin...</td>\n",
              "      <td>1</td>\n",
              "    </tr>\n",
              "    <tr>\n",
              "      <th>733</th>\n",
              "      <td>china's xi says will persist with korean penin...</td>\n",
              "      <td>1</td>\n",
              "    </tr>\n",
              "    <tr>\n",
              "      <th>11228</th>\n",
              "      <td>exclusive: atlantic city emergency fiscal mana...</td>\n",
              "      <td>1</td>\n",
              "    </tr>\n",
              "    <tr>\n",
              "      <th>11227</th>\n",
              "      <td>exclusive: atlantic city emergency fiscal mana...</td>\n",
              "      <td>1</td>\n",
              "    </tr>\n",
              "    <tr>\n",
              "      <th>8481</th>\n",
              "      <td>factbox: why the zika virus is causing alarm g...</td>\n",
              "      <td>1</td>\n",
              "    </tr>\n",
              "    <tr>\n",
              "      <th>8505</th>\n",
              "      <td>factbox: why the zika virus is causing alarm g...</td>\n",
              "      <td>1</td>\n",
              "    </tr>\n",
              "    <tr>\n",
              "      <th>11246</th>\n",
              "      <td>for republican rubio, a moment of truth in rac...</td>\n",
              "      <td>1</td>\n",
              "    </tr>\n",
              "    <tr>\n",
              "      <th>11239</th>\n",
              "      <td>for republican rubio, a moment of truth in rac...</td>\n",
              "      <td>1</td>\n",
              "    </tr>\n",
              "    <tr>\n",
              "      <th>2142</th>\n",
              "      <td>pence says nafta renegotiation will be a 'win ...</td>\n",
              "      <td>1</td>\n",
              "    </tr>\n",
              "    <tr>\n",
              "      <th>2149</th>\n",
              "      <td>pence says nafta renegotiation will be a 'win ...</td>\n",
              "      <td>1</td>\n",
              "    </tr>\n",
              "    <tr>\n",
              "      <th>1144</th>\n",
              "      <td>putin says trump hampered from delivering elec...</td>\n",
              "      <td>1</td>\n",
              "    </tr>\n",
              "    <tr>\n",
              "      <th>16994</th>\n",
              "      <td>putin says trump hampered from delivering elec...</td>\n",
              "      <td>1</td>\n",
              "    </tr>\n",
              "    <tr>\n",
              "      <th>1012</th>\n",
              "      <td>russia to respond to twitter ban on russian me...</td>\n",
              "      <td>1</td>\n",
              "    </tr>\n",
              "    <tr>\n",
              "      <th>16391</th>\n",
              "      <td>russia to respond to twitter ban on russian me...</td>\n",
              "      <td>1</td>\n",
              "    </tr>\n",
              "    <tr>\n",
              "      <th>20253</th>\n",
              "      <td>russia: moscow does not want to escalate situa...</td>\n",
              "      <td>1</td>\n",
              "    </tr>\n",
              "    <tr>\n",
              "      <th>1781</th>\n",
              "      <td>russia: moscow does not want to escalate situa...</td>\n",
              "      <td>1</td>\n",
              "    </tr>\n",
              "    <tr>\n",
              "      <th>15423</th>\n",
              "      <td>south korea's moon first suggested trump visit...</td>\n",
              "      <td>1</td>\n",
              "    </tr>\n",
              "    <tr>\n",
              "      <th>780</th>\n",
              "      <td>south korea's moon first suggested trump visit...</td>\n",
              "      <td>1</td>\n",
              "    </tr>\n",
              "    <tr>\n",
              "      <th>567</th>\n",
              "      <td>trump and putin speak for an hour about syria,...</td>\n",
              "      <td>1</td>\n",
              "    </tr>\n",
              "    <tr>\n",
              "      <th>14244</th>\n",
              "      <td>trump and putin speak for an hour about syria,...</td>\n",
              "      <td>1</td>\n",
              "    </tr>\n",
              "    <tr>\n",
              "      <th>15414</th>\n",
              "      <td>trump to ask china to cut financial links with...</td>\n",
              "      <td>1</td>\n",
              "    </tr>\n",
              "    <tr>\n",
              "      <th>771</th>\n",
              "      <td>trump to ask china to cut financial links with...</td>\n",
              "      <td>1</td>\n",
              "    </tr>\n",
              "    <tr>\n",
              "      <th>1482</th>\n",
              "      <td>trump to host thai prime minister on october 2...</td>\n",
              "      <td>1</td>\n",
              "    </tr>\n",
              "    <tr>\n",
              "      <th>18758</th>\n",
              "      <td>trump to host thai prime minister on october 2...</td>\n",
              "      <td>1</td>\n",
              "    </tr>\n",
              "    <tr>\n",
              "      <th>1936</th>\n",
              "      <td>trump to nominate juster to be ambassador to i...</td>\n",
              "      <td>1</td>\n",
              "    </tr>\n",
              "    <tr>\n",
              "      <th>21152</th>\n",
              "      <td>trump to nominate juster to be ambassador to i...</td>\n",
              "      <td>1</td>\n",
              "    </tr>\n",
              "    <tr>\n",
              "      <th>15607</th>\n",
              "      <td>trump, abe didn't discuss bilateral fta: japan...</td>\n",
              "      <td>1</td>\n",
              "    </tr>\n",
              "    <tr>\n",
              "      <th>810</th>\n",
              "      <td>trump, abe didn't discuss bilateral fta: japan...</td>\n",
              "      <td>1</td>\n",
              "    </tr>\n",
              "  </tbody>\n",
              "</table>\n",
              "</div>"
            ],
            "text/plain": [
              "                                                    text  class\n",
              "19277  china says to ban some petroleum exports to no...      1\n",
              "1594   china says to ban some petroleum exports to no...      1\n",
              "15307  china's xi says will persist with korean penin...      1\n",
              "733    china's xi says will persist with korean penin...      1\n",
              "11228  exclusive: atlantic city emergency fiscal mana...      1\n",
              "11227  exclusive: atlantic city emergency fiscal mana...      1\n",
              "8481   factbox: why the zika virus is causing alarm g...      1\n",
              "8505   factbox: why the zika virus is causing alarm g...      1\n",
              "11246  for republican rubio, a moment of truth in rac...      1\n",
              "11239  for republican rubio, a moment of truth in rac...      1\n",
              "2142   pence says nafta renegotiation will be a 'win ...      1\n",
              "2149   pence says nafta renegotiation will be a 'win ...      1\n",
              "1144   putin says trump hampered from delivering elec...      1\n",
              "16994  putin says trump hampered from delivering elec...      1\n",
              "1012   russia to respond to twitter ban on russian me...      1\n",
              "16391  russia to respond to twitter ban on russian me...      1\n",
              "20253  russia: moscow does not want to escalate situa...      1\n",
              "1781   russia: moscow does not want to escalate situa...      1\n",
              "15423  south korea's moon first suggested trump visit...      1\n",
              "780    south korea's moon first suggested trump visit...      1\n",
              "567    trump and putin speak for an hour about syria,...      1\n",
              "14244  trump and putin speak for an hour about syria,...      1\n",
              "15414  trump to ask china to cut financial links with...      1\n",
              "771    trump to ask china to cut financial links with...      1\n",
              "1482   trump to host thai prime minister on october 2...      1\n",
              "18758  trump to host thai prime minister on october 2...      1\n",
              "1936   trump to nominate juster to be ambassador to i...      1\n",
              "21152  trump to nominate juster to be ambassador to i...      1\n",
              "15607  trump, abe didn't discuss bilateral fta: japan...      1\n",
              "810    trump, abe didn't discuss bilateral fta: japan...      1"
            ]
          },
          "metadata": {},
          "execution_count": 134
        }
      ]
    },
    {
      "cell_type": "code",
      "metadata": {
        "colab": {
          "base_uri": "https://localhost:8080/"
        },
        "id": "k7pCkPj4T3XO",
        "outputId": "e4d88c14-2d50-4a60-c452-617eaf56afc9"
      },
      "source": [
        "print(\"Number of rows before remove duplicates : {}\".format(true.shape[0]))"
      ],
      "execution_count": 136,
      "outputs": [
        {
          "output_type": "stream",
          "name": "stdout",
          "text": [
            "Number of rows before remove duplicates : 21211\n"
          ]
        }
      ]
    },
    {
      "cell_type": "code",
      "metadata": {
        "colab": {
          "base_uri": "https://localhost:8080/",
          "height": 314
        },
        "id": "DJQ6h1SnT3XO",
        "outputId": "203b0966-6f1f-48f2-9aca-c2f812fc9301"
      },
      "source": [
        "print(\"Duplicated rows before remove them : \")\n",
        "true[true.duplicated(keep= False)].sort_values(by=['text']).head(8)"
      ],
      "execution_count": 138,
      "outputs": [
        {
          "output_type": "stream",
          "name": "stdout",
          "text": [
            "Duplicated rows before remove them : \n"
          ]
        },
        {
          "output_type": "execute_result",
          "data": {
            "text/html": [
              "<div>\n",
              "<style scoped>\n",
              "    .dataframe tbody tr th:only-of-type {\n",
              "        vertical-align: middle;\n",
              "    }\n",
              "\n",
              "    .dataframe tbody tr th {\n",
              "        vertical-align: top;\n",
              "    }\n",
              "\n",
              "    .dataframe thead th {\n",
              "        text-align: right;\n",
              "    }\n",
              "</style>\n",
              "<table border=\"1\" class=\"dataframe\">\n",
              "  <thead>\n",
              "    <tr style=\"text-align: right;\">\n",
              "      <th></th>\n",
              "      <th>text</th>\n",
              "      <th>class</th>\n",
              "    </tr>\n",
              "  </thead>\n",
              "  <tbody>\n",
              "    <tr>\n",
              "      <th>19277</th>\n",
              "      <td>china says to ban some petroleum exports to no...</td>\n",
              "      <td>1</td>\n",
              "    </tr>\n",
              "    <tr>\n",
              "      <th>1594</th>\n",
              "      <td>china says to ban some petroleum exports to no...</td>\n",
              "      <td>1</td>\n",
              "    </tr>\n",
              "    <tr>\n",
              "      <th>15307</th>\n",
              "      <td>china's xi says will persist with korean penin...</td>\n",
              "      <td>1</td>\n",
              "    </tr>\n",
              "    <tr>\n",
              "      <th>733</th>\n",
              "      <td>china's xi says will persist with korean penin...</td>\n",
              "      <td>1</td>\n",
              "    </tr>\n",
              "    <tr>\n",
              "      <th>11228</th>\n",
              "      <td>exclusive: atlantic city emergency fiscal mana...</td>\n",
              "      <td>1</td>\n",
              "    </tr>\n",
              "    <tr>\n",
              "      <th>11227</th>\n",
              "      <td>exclusive: atlantic city emergency fiscal mana...</td>\n",
              "      <td>1</td>\n",
              "    </tr>\n",
              "    <tr>\n",
              "      <th>8481</th>\n",
              "      <td>factbox: why the zika virus is causing alarm g...</td>\n",
              "      <td>1</td>\n",
              "    </tr>\n",
              "    <tr>\n",
              "      <th>8505</th>\n",
              "      <td>factbox: why the zika virus is causing alarm g...</td>\n",
              "      <td>1</td>\n",
              "    </tr>\n",
              "  </tbody>\n",
              "</table>\n",
              "</div>"
            ],
            "text/plain": [
              "                                                    text  class\n",
              "19277  china says to ban some petroleum exports to no...      1\n",
              "1594   china says to ban some petroleum exports to no...      1\n",
              "15307  china's xi says will persist with korean penin...      1\n",
              "733    china's xi says will persist with korean penin...      1\n",
              "11228  exclusive: atlantic city emergency fiscal mana...      1\n",
              "11227  exclusive: atlantic city emergency fiscal mana...      1\n",
              "8481   factbox: why the zika virus is causing alarm g...      1\n",
              "8505   factbox: why the zika virus is causing alarm g...      1"
            ]
          },
          "metadata": {},
          "execution_count": 138
        }
      ]
    },
    {
      "cell_type": "code",
      "metadata": {
        "colab": {
          "base_uri": "https://localhost:8080/"
        },
        "id": "5HQDoC2-T3XO",
        "outputId": "9de04b46-b2ee-462e-99e5-2ef8d44ff352"
      },
      "source": [
        "print(\"Number of duplicates in data : {}\".format(len(true[true.duplicated()]))) "
      ],
      "execution_count": 139,
      "outputs": [
        {
          "output_type": "stream",
          "name": "stdout",
          "text": [
            "Number of duplicates in data : 15\n"
          ]
        }
      ]
    },
    {
      "cell_type": "code",
      "metadata": {
        "id": "S0Nkx_O2T3XO"
      },
      "source": [
        "#remove duplicated rows\n",
        "true.drop_duplicates(inplace=True)"
      ],
      "execution_count": 140,
      "outputs": []
    },
    {
      "cell_type": "code",
      "metadata": {
        "colab": {
          "base_uri": "https://localhost:8080/"
        },
        "id": "zA2Y8dxHT3XP",
        "outputId": "a8a03438-6afa-4ce7-8c79-4eecb54cb67a"
      },
      "source": [
        "print(\"Number of duplicates in data after using drop_duplicates: {}\".format(len(true[true.duplicated()]))) "
      ],
      "execution_count": 141,
      "outputs": [
        {
          "output_type": "stream",
          "name": "stdout",
          "text": [
            "Number of duplicates in data after using drop_duplicates: 0\n"
          ]
        }
      ]
    },
    {
      "cell_type": "markdown",
      "metadata": {
        "id": "gZPmG0mZMfEP"
      },
      "source": [
        "**EDA for fake news**"
      ]
    },
    {
      "cell_type": "code",
      "metadata": {
        "colab": {
          "base_uri": "https://localhost:8080/",
          "height": 204
        },
        "id": "ETQxgGiFMA-E",
        "outputId": "a1752ce1-9d78-4861-f2cd-a3067cd0dcdb"
      },
      "source": [
        "fake.head()"
      ],
      "execution_count": null,
      "outputs": [
        {
          "output_type": "execute_result",
          "data": {
            "text/html": [
              "<div>\n",
              "<style scoped>\n",
              "    .dataframe tbody tr th:only-of-type {\n",
              "        vertical-align: middle;\n",
              "    }\n",
              "\n",
              "    .dataframe tbody tr th {\n",
              "        vertical-align: top;\n",
              "    }\n",
              "\n",
              "    .dataframe thead th {\n",
              "        text-align: right;\n",
              "    }\n",
              "</style>\n",
              "<table border=\"1\" class=\"dataframe\">\n",
              "  <thead>\n",
              "    <tr style=\"text-align: right;\">\n",
              "      <th></th>\n",
              "      <th>title</th>\n",
              "      <th>text</th>\n",
              "      <th>subject</th>\n",
              "      <th>date</th>\n",
              "    </tr>\n",
              "  </thead>\n",
              "  <tbody>\n",
              "    <tr>\n",
              "      <th>0</th>\n",
              "      <td>Donald Trump Sends Out Embarrassing New Year’...</td>\n",
              "      <td>Donald Trump just couldn t wish all Americans ...</td>\n",
              "      <td>News</td>\n",
              "      <td>December 31, 2017</td>\n",
              "    </tr>\n",
              "    <tr>\n",
              "      <th>1</th>\n",
              "      <td>Drunk Bragging Trump Staffer Started Russian ...</td>\n",
              "      <td>House Intelligence Committee Chairman Devin Nu...</td>\n",
              "      <td>News</td>\n",
              "      <td>December 31, 2017</td>\n",
              "    </tr>\n",
              "    <tr>\n",
              "      <th>2</th>\n",
              "      <td>Sheriff David Clarke Becomes An Internet Joke...</td>\n",
              "      <td>On Friday, it was revealed that former Milwauk...</td>\n",
              "      <td>News</td>\n",
              "      <td>December 30, 2017</td>\n",
              "    </tr>\n",
              "    <tr>\n",
              "      <th>3</th>\n",
              "      <td>Trump Is So Obsessed He Even Has Obama’s Name...</td>\n",
              "      <td>On Christmas day, Donald Trump announced that ...</td>\n",
              "      <td>News</td>\n",
              "      <td>December 29, 2017</td>\n",
              "    </tr>\n",
              "    <tr>\n",
              "      <th>4</th>\n",
              "      <td>Pope Francis Just Called Out Donald Trump Dur...</td>\n",
              "      <td>Pope Francis used his annual Christmas Day mes...</td>\n",
              "      <td>News</td>\n",
              "      <td>December 25, 2017</td>\n",
              "    </tr>\n",
              "  </tbody>\n",
              "</table>\n",
              "</div>"
            ],
            "text/plain": [
              "                                               title  ...               date\n",
              "0   Donald Trump Sends Out Embarrassing New Year’...  ...  December 31, 2017\n",
              "1   Drunk Bragging Trump Staffer Started Russian ...  ...  December 31, 2017\n",
              "2   Sheriff David Clarke Becomes An Internet Joke...  ...  December 30, 2017\n",
              "3   Trump Is So Obsessed He Even Has Obama’s Name...  ...  December 29, 2017\n",
              "4   Pope Francis Just Called Out Donald Trump Dur...  ...  December 25, 2017\n",
              "\n",
              "[5 rows x 4 columns]"
            ]
          },
          "metadata": {},
          "execution_count": 31
        }
      ]
    },
    {
      "cell_type": "code",
      "metadata": {
        "colab": {
          "base_uri": "https://localhost:8080/"
        },
        "id": "2-qpAck6Omgo",
        "outputId": "f0d812b5-880d-4cba-8aee-1f448f97ae1c"
      },
      "source": [
        "fake.info()"
      ],
      "execution_count": 76,
      "outputs": [
        {
          "output_type": "stream",
          "name": "stdout",
          "text": [
            "<class 'pandas.core.frame.DataFrame'>\n",
            "RangeIndex: 23481 entries, 0 to 23480\n",
            "Data columns (total 4 columns):\n",
            " #   Column   Non-Null Count  Dtype \n",
            "---  ------   --------------  ----- \n",
            " 0   title    23481 non-null  object\n",
            " 1   text     23481 non-null  object\n",
            " 2   subject  23481 non-null  object\n",
            " 3   date     23481 non-null  object\n",
            "dtypes: object(4)\n",
            "memory usage: 733.9+ KB\n"
          ]
        }
      ]
    },
    {
      "cell_type": "code",
      "metadata": {
        "colab": {
          "base_uri": "https://localhost:8080/"
        },
        "id": "DkZE1oFCFQEi",
        "outputId": "2c666bbd-513b-472d-96b8-8010481c34d2"
      },
      "source": [
        "fake.subject.value_counts()"
      ],
      "execution_count": 77,
      "outputs": [
        {
          "output_type": "execute_result",
          "data": {
            "text/plain": [
              "News               9050\n",
              "politics           6841\n",
              "left-news          4459\n",
              "Government News    1570\n",
              "US_News             783\n",
              "Middle-east         778\n",
              "Name: subject, dtype: int64"
            ]
          },
          "metadata": {},
          "execution_count": 77
        }
      ]
    },
    {
      "cell_type": "code",
      "metadata": {
        "colab": {
          "base_uri": "https://localhost:8080/"
        },
        "id": "OODL7GnFVYJf",
        "outputId": "bdc113dc-acf0-4435-cc79-ac074ea6ecb4"
      },
      "source": [
        "print(\"Number of rows before remove duplicates : {}\".format(fake.shape[0]))"
      ],
      "execution_count": 142,
      "outputs": [
        {
          "output_type": "stream",
          "name": "stdout",
          "text": [
            "Number of rows before remove duplicates : 23481\n"
          ]
        }
      ]
    },
    {
      "cell_type": "code",
      "metadata": {
        "colab": {
          "base_uri": "https://localhost:8080/",
          "height": 252
        },
        "id": "UTdf4UbIVYJm",
        "outputId": "829d2acb-76d8-4e0b-eb20-a4c54b604095"
      },
      "source": [
        "print(\"Duplicated rows before remove them : \")\n",
        "fake[fake.duplicated(keep=False)].sort_values(by=\"text\").head(8)"
      ],
      "execution_count": 143,
      "outputs": [
        {
          "output_type": "stream",
          "name": "stdout",
          "text": [
            "Duplicated rows before remove them : \n"
          ]
        },
        {
          "output_type": "execute_result",
          "data": {
            "text/html": [
              "<div>\n",
              "<style scoped>\n",
              "    .dataframe tbody tr th:only-of-type {\n",
              "        vertical-align: middle;\n",
              "    }\n",
              "\n",
              "    .dataframe tbody tr th {\n",
              "        vertical-align: top;\n",
              "    }\n",
              "\n",
              "    .dataframe thead th {\n",
              "        text-align: right;\n",
              "    }\n",
              "</style>\n",
              "<table border=\"1\" class=\"dataframe\">\n",
              "  <thead>\n",
              "    <tr style=\"text-align: right;\">\n",
              "      <th></th>\n",
              "      <th>title</th>\n",
              "      <th>text</th>\n",
              "      <th>subject</th>\n",
              "      <th>date</th>\n",
              "    </tr>\n",
              "  </thead>\n",
              "  <tbody>\n",
              "    <tr>\n",
              "      <th>11445</th>\n",
              "      <td>FORMER DEMOCRAT WARNS Young Americans: “Rioter...</td>\n",
              "      <td>Who is silencing political speech, physically...</td>\n",
              "      <td>politics</td>\n",
              "      <td>Mar 10, 2017</td>\n",
              "    </tr>\n",
              "    <tr>\n",
              "      <th>11446</th>\n",
              "      <td>FORMER DEMOCRAT WARNS Young Americans: “Rioter...</td>\n",
              "      <td>Who is silencing political speech, physically...</td>\n",
              "      <td>politics</td>\n",
              "      <td>Mar 10, 2017</td>\n",
              "    </tr>\n",
              "    <tr>\n",
              "      <th>9941</th>\n",
              "      <td>HILLARY TWEETS MESSAGE In Defense Of DACA…OOPS...</td>\n",
              "      <td>No time to waste   we've got to fight with eve...</td>\n",
              "      <td>politics</td>\n",
              "      <td>Sep 9, 2017</td>\n",
              "    </tr>\n",
              "    <tr>\n",
              "      <th>9942</th>\n",
              "      <td>HILLARY TWEETS MESSAGE In Defense Of DACA…OOPS...</td>\n",
              "      <td>No time to waste   we've got to fight with eve...</td>\n",
              "      <td>politics</td>\n",
              "      <td>Sep 9, 2017</td>\n",
              "    </tr>\n",
              "    <tr>\n",
              "      <th>14924</th>\n",
              "      <td>[VIDEO] #BlackLivesMatter Terrorists Storm Dar...</td>\n",
              "      <td>They were probably just looking for a  safe sp...</td>\n",
              "      <td>politics</td>\n",
              "      <td>Nov 16, 2015</td>\n",
              "    </tr>\n",
              "    <tr>\n",
              "      <th>14925</th>\n",
              "      <td>[VIDEO] #BlackLivesMatter Terrorists Storm Dar...</td>\n",
              "      <td>They were probably just looking for a  safe sp...</td>\n",
              "      <td>politics</td>\n",
              "      <td>Nov 16, 2015</td>\n",
              "    </tr>\n",
              "  </tbody>\n",
              "</table>\n",
              "</div>"
            ],
            "text/plain": [
              "                                                   title  ...          date\n",
              "11445  FORMER DEMOCRAT WARNS Young Americans: “Rioter...  ...  Mar 10, 2017\n",
              "11446  FORMER DEMOCRAT WARNS Young Americans: “Rioter...  ...  Mar 10, 2017\n",
              "9941   HILLARY TWEETS MESSAGE In Defense Of DACA…OOPS...  ...   Sep 9, 2017\n",
              "9942   HILLARY TWEETS MESSAGE In Defense Of DACA…OOPS...  ...   Sep 9, 2017\n",
              "14924  [VIDEO] #BlackLivesMatter Terrorists Storm Dar...  ...  Nov 16, 2015\n",
              "14925  [VIDEO] #BlackLivesMatter Terrorists Storm Dar...  ...  Nov 16, 2015\n",
              "\n",
              "[6 rows x 4 columns]"
            ]
          },
          "metadata": {},
          "execution_count": 143
        }
      ]
    },
    {
      "cell_type": "code",
      "metadata": {
        "colab": {
          "base_uri": "https://localhost:8080/"
        },
        "id": "5atpi1RQVYJm",
        "outputId": "972a1ddc-cc94-48c3-fa5e-ddb5bbd5ed85"
      },
      "source": [
        "print(\"Number of duplicates in data : {}\".format(len(fake[fake.duplicated()]))) "
      ],
      "execution_count": 145,
      "outputs": [
        {
          "output_type": "stream",
          "name": "stdout",
          "text": [
            "Number of duplicates in data : 3\n"
          ]
        }
      ]
    },
    {
      "cell_type": "code",
      "metadata": {
        "id": "wc5eQARKVYJm"
      },
      "source": [
        "#remove duplicated rows\n",
        "fake.drop_duplicates(inplace=True)"
      ],
      "execution_count": 146,
      "outputs": []
    },
    {
      "cell_type": "code",
      "metadata": {
        "colab": {
          "base_uri": "https://localhost:8080/"
        },
        "id": "8nZChMSYVYJn",
        "outputId": "3aca7d81-7ca8-4ce6-8833-fed8c2edf098"
      },
      "source": [
        "print(\"Number of duplicates in data after using drop_duplicates: {}\".format(len(fake[fake.duplicated()]))) "
      ],
      "execution_count": 147,
      "outputs": [
        {
          "output_type": "stream",
          "name": "stdout",
          "text": [
            "Number of duplicates in data after using drop_duplicates: 0\n"
          ]
        }
      ]
    },
    {
      "cell_type": "code",
      "metadata": {
        "colab": {
          "base_uri": "https://localhost:8080/",
          "height": 503
        },
        "id": "xaujrFg3Fn5X",
        "outputId": "c53e82cf-5231-4643-f924-5ed17ac35ed8"
      },
      "source": [
        "plt.figure(figsize=(10,6))\n",
        "plt.title(\"Frequencies of Subjects for fake news\")\n",
        "sns.countplot(x = 'subject', data = fake)\n",
        "plt.xlabel('Subject Type')\n",
        "plt.xticks(rotation=90)"
      ],
      "execution_count": 148,
      "outputs": [
        {
          "output_type": "execute_result",
          "data": {
            "text/plain": [
              "(array([0, 1, 2, 3, 4, 5]), <a list of 6 Text major ticklabel objects>)"
            ]
          },
          "metadata": {},
          "execution_count": 148
        },
        {
          "output_type": "display_data",
          "data": {
            "image/png": "[encoded data removed]",
            "text/plain": [
              "<Figure size 720x432 with 1 Axes>"
            ]
          },
          "metadata": {
            "needs_background": "light"
          }
        }
      ]
    },
    {
      "cell_type": "code",
      "metadata": {
        "colab": {
          "base_uri": "https://localhost:8080/",
          "height": 424
        },
        "id": "lXdmNXM5HHQS",
        "outputId": "6ff0e114-2c7f-4bb8-c9dc-946134504d2a"
      },
      "source": [
        "fake_text = ' '.join(fake.text.tolist())\n",
        "wordcloud_fake =  WordCloud().generate(fake_text)\n",
        "plt.figure(figsize=(10, 10))\n",
        "plt.imshow(wordcloud_fake)\n",
        "plt.axis('off')\n",
        "plt.title(\"Word Cloud of fake news\")\n",
        "plt.tight_layout(pad=0)\n",
        "plt.show"
      ],
      "execution_count": 149,
      "outputs": [
        {
          "output_type": "execute_result",
          "data": {
            "text/plain": [
              "<function matplotlib.pyplot.show>"
            ]
          },
          "metadata": {},
          "execution_count": 149
        },
        {
          "output_type": "display_data",
          "data": {
            "image/png": "[encoded data removed]",
            "text/plain": [
              "<Figure size 720x720 with 1 Axes>"
            ]
          },
          "metadata": {
            "needs_background": "light"
          }
        }
      ]
    },
    {
      "cell_type": "markdown",
      "metadata": {
        "id": "B-qKuH4nbaF6"
      },
      "source": [
        "**Clean and Preprocessing Fake news dataset**"
      ]
    },
    {
      "cell_type": "code",
      "metadata": {
        "colab": {
          "base_uri": "https://localhost:8080/",
          "height": 204
        },
        "id": "M4BsgqI_bzyX",
        "outputId": "5143b535-1f38-47e5-dc1b-3a2954cc3af2"
      },
      "source": [
        "fake.sample(5)"
      ],
      "execution_count": 150,
      "outputs": [
        {
          "output_type": "execute_result",
          "data": {
            "text/html": [
              "<div>\n",
              "<style scoped>\n",
              "    .dataframe tbody tr th:only-of-type {\n",
              "        vertical-align: middle;\n",
              "    }\n",
              "\n",
              "    .dataframe tbody tr th {\n",
              "        vertical-align: top;\n",
              "    }\n",
              "\n",
              "    .dataframe thead th {\n",
              "        text-align: right;\n",
              "    }\n",
              "</style>\n",
              "<table border=\"1\" class=\"dataframe\">\n",
              "  <thead>\n",
              "    <tr style=\"text-align: right;\">\n",
              "      <th></th>\n",
              "      <th>title</th>\n",
              "      <th>text</th>\n",
              "      <th>subject</th>\n",
              "      <th>date</th>\n",
              "    </tr>\n",
              "  </thead>\n",
              "  <tbody>\n",
              "    <tr>\n",
              "      <th>10153</th>\n",
              "      <td>CAN YOU HEAR HIM NOW? President Trump Doubles ...</td>\n",
              "      <td>President Trump condemned hate groups today AG...</td>\n",
              "      <td>politics</td>\n",
              "      <td>Aug 14, 2017</td>\n",
              "    </tr>\n",
              "    <tr>\n",
              "      <th>17996</th>\n",
              "      <td>WATCH: DIAMOND AND SILK Make A Surprise Visit ...</td>\n",
              "      <td>They re President Trump s #1 fans and they ve ...</td>\n",
              "      <td>left-news</td>\n",
              "      <td>Sep 9, 2017</td>\n",
              "    </tr>\n",
              "    <tr>\n",
              "      <th>16191</th>\n",
              "      <td>ALARM TURNED OFF: Shocking Details on WHITE HO...</td>\n",
              "      <td>Secret Service personnel removed the alarm sen...</td>\n",
              "      <td>Government News</td>\n",
              "      <td>Mar 21, 2017</td>\n",
              "    </tr>\n",
              "    <tr>\n",
              "      <th>11861</th>\n",
              "      <td>FLASHBACK: Valerie Jarrett’s Daughter Hired By...</td>\n",
              "      <td>CNN Announced:  The Justice Department and Sup...</td>\n",
              "      <td>politics</td>\n",
              "      <td>Jan 19, 2017</td>\n",
              "    </tr>\n",
              "    <tr>\n",
              "      <th>22307</th>\n",
              "      <td>Boiler Room #89 – Island of Misfit Toys</td>\n",
              "      <td>Tune in to the Alternate Current Radio Network...</td>\n",
              "      <td>US_News</td>\n",
              "      <td>December 23, 2016</td>\n",
              "    </tr>\n",
              "  </tbody>\n",
              "</table>\n",
              "</div>"
            ],
            "text/plain": [
              "                                                   title  ...               date\n",
              "10153  CAN YOU HEAR HIM NOW? President Trump Doubles ...  ...       Aug 14, 2017\n",
              "17996  WATCH: DIAMOND AND SILK Make A Surprise Visit ...  ...        Sep 9, 2017\n",
              "16191  ALARM TURNED OFF: Shocking Details on WHITE HO...  ...       Mar 21, 2017\n",
              "11861  FLASHBACK: Valerie Jarrett’s Daughter Hired By...  ...       Jan 19, 2017\n",
              "22307            Boiler Room #89 – Island of Misfit Toys  ...  December 23, 2016\n",
              "\n",
              "[5 rows x 4 columns]"
            ]
          },
          "metadata": {},
          "execution_count": 150
        }
      ]
    },
    {
      "cell_type": "code",
      "metadata": {
        "id": "AAO2im3UHHKp"
      },
      "source": [
        "fake_empty_text = [i for i, text in enumerate(fake.text.tolist()) if str(text).strip() == '']"
      ],
      "execution_count": 151,
      "outputs": []
    },
    {
      "cell_type": "code",
      "metadata": {
        "id": "wCBLz3JUcI38"
      },
      "source": [
        "fake_empty_text"
      ],
      "execution_count": null,
      "outputs": []
    },
    {
      "cell_type": "code",
      "metadata": {
        "colab": {
          "base_uri": "https://localhost:8080/",
          "height": 419
        },
        "id": "lyjoW1-5dS1F",
        "outputId": "ee88b520-fa40-4411-c2b8-2264b7db142e"
      },
      "source": [
        "fake.iloc[fake_empty_text]"
      ],
      "execution_count": 153,
      "outputs": [
        {
          "output_type": "execute_result",
          "data": {
            "text/html": [
              "<div>\n",
              "<style scoped>\n",
              "    .dataframe tbody tr th:only-of-type {\n",
              "        vertical-align: middle;\n",
              "    }\n",
              "\n",
              "    .dataframe tbody tr th {\n",
              "        vertical-align: top;\n",
              "    }\n",
              "\n",
              "    .dataframe thead th {\n",
              "        text-align: right;\n",
              "    }\n",
              "</style>\n",
              "<table border=\"1\" class=\"dataframe\">\n",
              "  <thead>\n",
              "    <tr style=\"text-align: right;\">\n",
              "      <th></th>\n",
              "      <th>title</th>\n",
              "      <th>text</th>\n",
              "      <th>subject</th>\n",
              "      <th>date</th>\n",
              "    </tr>\n",
              "  </thead>\n",
              "  <tbody>\n",
              "    <tr>\n",
              "      <th>10923</th>\n",
              "      <td>TAKE OUR POLL: Who Do You Think President Trum...</td>\n",
              "      <td></td>\n",
              "      <td>politics</td>\n",
              "      <td>May 10, 2017</td>\n",
              "    </tr>\n",
              "    <tr>\n",
              "      <th>11041</th>\n",
              "      <td>Joe Scarborough BERATES Mika Brzezinski Over “...</td>\n",
              "      <td></td>\n",
              "      <td>politics</td>\n",
              "      <td>Apr 26, 2017</td>\n",
              "    </tr>\n",
              "    <tr>\n",
              "      <th>11190</th>\n",
              "      <td>WATCH TUCKER CARLSON Scorch Sanctuary City May...</td>\n",
              "      <td></td>\n",
              "      <td>politics</td>\n",
              "      <td>Apr 6, 2017</td>\n",
              "    </tr>\n",
              "    <tr>\n",
              "      <th>11225</th>\n",
              "      <td>MAYOR OF SANCTUARY CITY: Trump Trying To Make ...</td>\n",
              "      <td></td>\n",
              "      <td>politics</td>\n",
              "      <td>Apr 2, 2017</td>\n",
              "    </tr>\n",
              "    <tr>\n",
              "      <th>11236</th>\n",
              "      <td>SHOCKER: Public School Turns Computer Lab Into...</td>\n",
              "      <td></td>\n",
              "      <td>politics</td>\n",
              "      <td>Apr 1, 2017</td>\n",
              "    </tr>\n",
              "    <tr>\n",
              "      <th>...</th>\n",
              "      <td>...</td>\n",
              "      <td>...</td>\n",
              "      <td>...</td>\n",
              "      <td>...</td>\n",
              "    </tr>\n",
              "    <tr>\n",
              "      <th>21816</th>\n",
              "      <td>BALTIMORE BURNS: MARYLAND GOVERNOR BRINGS IN N...</td>\n",
              "      <td></td>\n",
              "      <td>left-news</td>\n",
              "      <td>Apr 27, 2015</td>\n",
              "    </tr>\n",
              "    <tr>\n",
              "      <th>21826</th>\n",
              "      <td>FULL VIDEO: THE BLOCKBUSTER INVESTIGATION INTO...</td>\n",
              "      <td></td>\n",
              "      <td>left-news</td>\n",
              "      <td>Apr 25, 2015</td>\n",
              "    </tr>\n",
              "    <tr>\n",
              "      <th>21827</th>\n",
              "      <td>(VIDEO) HILLARY CLINTON: RELIGIOUS BELIEFS MUS...</td>\n",
              "      <td></td>\n",
              "      <td>left-news</td>\n",
              "      <td>Apr 25, 2015</td>\n",
              "    </tr>\n",
              "    <tr>\n",
              "      <th>21857</th>\n",
              "      <td>(VIDEO)ICE PROTECTING OBAMA: WON’T RELEASE NAM...</td>\n",
              "      <td></td>\n",
              "      <td>left-news</td>\n",
              "      <td>Apr 14, 2015</td>\n",
              "    </tr>\n",
              "    <tr>\n",
              "      <th>21873</th>\n",
              "      <td>(VIDEO) HYSTERICAL SNL TAKE ON HILLARY’S ANNOU...</td>\n",
              "      <td></td>\n",
              "      <td>left-news</td>\n",
              "      <td>Apr 12, 2015</td>\n",
              "    </tr>\n",
              "  </tbody>\n",
              "</table>\n",
              "<p>630 rows × 4 columns</p>\n",
              "</div>"
            ],
            "text/plain": [
              "                                                   title  ...          date\n",
              "10923  TAKE OUR POLL: Who Do You Think President Trum...  ...  May 10, 2017\n",
              "11041  Joe Scarborough BERATES Mika Brzezinski Over “...  ...  Apr 26, 2017\n",
              "11190  WATCH TUCKER CARLSON Scorch Sanctuary City May...  ...   Apr 6, 2017\n",
              "11225  MAYOR OF SANCTUARY CITY: Trump Trying To Make ...  ...   Apr 2, 2017\n",
              "11236  SHOCKER: Public School Turns Computer Lab Into...  ...   Apr 1, 2017\n",
              "...                                                  ...  ...           ...\n",
              "21816  BALTIMORE BURNS: MARYLAND GOVERNOR BRINGS IN N...  ...  Apr 27, 2015\n",
              "21826  FULL VIDEO: THE BLOCKBUSTER INVESTIGATION INTO...  ...  Apr 25, 2015\n",
              "21827  (VIDEO) HILLARY CLINTON: RELIGIOUS BELIEFS MUS...  ...  Apr 25, 2015\n",
              "21857  (VIDEO)ICE PROTECTING OBAMA: WON’T RELEASE NAM...  ...  Apr 14, 2015\n",
              "21873  (VIDEO) HYSTERICAL SNL TAKE ON HILLARY’S ANNOU...  ...  Apr 12, 2015\n",
              "\n",
              "[630 rows x 4 columns]"
            ]
          },
          "metadata": {},
          "execution_count": 153
        }
      ]
    },
    {
      "cell_type": "code",
      "metadata": {
        "id": "PXg5_cvnicwe"
      },
      "source": [
        "fake['text'] = fake['title'] + \" \" + fake['text'] "
      ],
      "execution_count": 154,
      "outputs": []
    },
    {
      "cell_type": "code",
      "metadata": {
        "id": "iDZArKq9ioOU"
      },
      "source": [
        "fake['text'] = fake['text'].apply(lambda x : str(x).lower())"
      ],
      "execution_count": 155,
      "outputs": []
    },
    {
      "cell_type": "code",
      "metadata": {
        "id": "14adyWdCkDVm"
      },
      "source": [
        "fake['class'] = 0"
      ],
      "execution_count": 156,
      "outputs": []
    },
    {
      "cell_type": "code",
      "metadata": {
        "id": "8TmOIM9pkScJ"
      },
      "source": [
        "fake = fake[['text', 'class']]"
      ],
      "execution_count": 157,
      "outputs": []
    },
    {
      "cell_type": "code",
      "metadata": {
        "colab": {
          "base_uri": "https://localhost:8080/",
          "height": 204
        },
        "id": "mRL7amzYihKd",
        "outputId": "6fa2d7b1-691a-41b9-f174-24f705c18128"
      },
      "source": [
        "fake.sample(5)"
      ],
      "execution_count": 158,
      "outputs": [
        {
          "output_type": "execute_result",
          "data": {
            "text/html": [
              "<div>\n",
              "<style scoped>\n",
              "    .dataframe tbody tr th:only-of-type {\n",
              "        vertical-align: middle;\n",
              "    }\n",
              "\n",
              "    .dataframe tbody tr th {\n",
              "        vertical-align: top;\n",
              "    }\n",
              "\n",
              "    .dataframe thead th {\n",
              "        text-align: right;\n",
              "    }\n",
              "</style>\n",
              "<table border=\"1\" class=\"dataframe\">\n",
              "  <thead>\n",
              "    <tr style=\"text-align: right;\">\n",
              "      <th></th>\n",
              "      <th>text</th>\n",
              "      <th>class</th>\n",
              "    </tr>\n",
              "  </thead>\n",
              "  <tbody>\n",
              "    <tr>\n",
              "      <th>5716</th>\n",
              "      <td>hillary gives huge middle finger to gop bigot...</td>\n",
              "      <td>0</td>\n",
              "    </tr>\n",
              "    <tr>\n",
              "      <th>8563</th>\n",
              "      <td>dixie chicks’ natalie maines dusts off infamo...</td>\n",
              "      <td>0</td>\n",
              "    </tr>\n",
              "    <tr>\n",
              "      <th>20622</th>\n",
              "      <td>9 facts about slavery democrats don’t want you...</td>\n",
              "      <td>0</td>\n",
              "    </tr>\n",
              "    <tr>\n",
              "      <th>20870</th>\n",
              "      <td>watch insane videos…chicago cop spills the bea...</td>\n",
              "      <td>0</td>\n",
              "    </tr>\n",
              "    <tr>\n",
              "      <th>4048</th>\n",
              "      <td>trump freaks out, talks ‘world war three’ (vi...</td>\n",
              "      <td>0</td>\n",
              "    </tr>\n",
              "  </tbody>\n",
              "</table>\n",
              "</div>"
            ],
            "text/plain": [
              "                                                    text  class\n",
              "5716    hillary gives huge middle finger to gop bigot...      0\n",
              "8563    dixie chicks’ natalie maines dusts off infamo...      0\n",
              "20622  9 facts about slavery democrats don’t want you...      0\n",
              "20870  watch insane videos…chicago cop spills the bea...      0\n",
              "4048    trump freaks out, talks ‘world war three’ (vi...      0"
            ]
          },
          "metadata": {},
          "execution_count": 158
        }
      ]
    },
    {
      "cell_type": "code",
      "metadata": {
        "colab": {
          "base_uri": "https://localhost:8080/"
        },
        "id": "ISkH9KWZWK2H",
        "outputId": "03d08efe-7d07-4d9d-8d2f-8db5a20a4964"
      },
      "source": [
        "print(\"Number of rows before remove duplicates : {}\".format(fake.shape[0]))"
      ],
      "execution_count": 159,
      "outputs": [
        {
          "output_type": "stream",
          "name": "stdout",
          "text": [
            "Number of rows before remove duplicates : 23478\n"
          ]
        }
      ]
    },
    {
      "cell_type": "code",
      "metadata": {
        "colab": {
          "base_uri": "https://localhost:8080/",
          "height": 314
        },
        "id": "0f55-FE-WK2I",
        "outputId": "3e181fb1-cb57-4e7a-e15e-8c098f265ec5"
      },
      "source": [
        "print(\"Duplicated rows before remove them : \")\n",
        "fake[fake.duplicated(keep=False)].sort_values(by=\"text\").head(8)"
      ],
      "execution_count": 160,
      "outputs": [
        {
          "output_type": "stream",
          "name": "stdout",
          "text": [
            "Duplicated rows before remove them : \n"
          ]
        },
        {
          "output_type": "execute_result",
          "data": {
            "text/html": [
              "<div>\n",
              "<style scoped>\n",
              "    .dataframe tbody tr th:only-of-type {\n",
              "        vertical-align: middle;\n",
              "    }\n",
              "\n",
              "    .dataframe tbody tr th {\n",
              "        vertical-align: top;\n",
              "    }\n",
              "\n",
              "    .dataframe thead th {\n",
              "        text-align: right;\n",
              "    }\n",
              "</style>\n",
              "<table border=\"1\" class=\"dataframe\">\n",
              "  <thead>\n",
              "    <tr style=\"text-align: right;\">\n",
              "      <th></th>\n",
              "      <th>text</th>\n",
              "      <th>class</th>\n",
              "    </tr>\n",
              "  </thead>\n",
              "  <tbody>\n",
              "    <tr>\n",
              "      <th>20771</th>\n",
              "      <td>#anyonebuthillary: new poll shows bernie suppo...</td>\n",
              "      <td>0</td>\n",
              "    </tr>\n",
              "    <tr>\n",
              "      <th>14160</th>\n",
              "      <td>#anyonebuthillary: new poll shows bernie suppo...</td>\n",
              "      <td>0</td>\n",
              "    </tr>\n",
              "    <tr>\n",
              "      <th>17930</th>\n",
              "      <td>#austin: fights break out between police and s...</td>\n",
              "      <td>0</td>\n",
              "    </tr>\n",
              "    <tr>\n",
              "      <th>9841</th>\n",
              "      <td>#austin: fights break out between police and s...</td>\n",
              "      <td>0</td>\n",
              "    </tr>\n",
              "    <tr>\n",
              "      <th>19211</th>\n",
              "      <td>#berkeley crazy! rioters chase and beat people...</td>\n",
              "      <td>0</td>\n",
              "    </tr>\n",
              "    <tr>\n",
              "      <th>11756</th>\n",
              "      <td>#berkeley crazy! rioters chase and beat people...</td>\n",
              "      <td>0</td>\n",
              "    </tr>\n",
              "    <tr>\n",
              "      <th>11755</th>\n",
              "      <td>#berkeley irony alert! anarchists loot starbuc...</td>\n",
              "      <td>0</td>\n",
              "    </tr>\n",
              "    <tr>\n",
              "      <th>19210</th>\n",
              "      <td>#berkeley irony alert! anarchists loot starbuc...</td>\n",
              "      <td>0</td>\n",
              "    </tr>\n",
              "  </tbody>\n",
              "</table>\n",
              "</div>"
            ],
            "text/plain": [
              "                                                    text  class\n",
              "20771  #anyonebuthillary: new poll shows bernie suppo...      0\n",
              "14160  #anyonebuthillary: new poll shows bernie suppo...      0\n",
              "17930  #austin: fights break out between police and s...      0\n",
              "9841   #austin: fights break out between police and s...      0\n",
              "19211  #berkeley crazy! rioters chase and beat people...      0\n",
              "11756  #berkeley crazy! rioters chase and beat people...      0\n",
              "11755  #berkeley irony alert! anarchists loot starbuc...      0\n",
              "19210  #berkeley irony alert! anarchists loot starbuc...      0"
            ]
          },
          "metadata": {},
          "execution_count": 160
        }
      ]
    },
    {
      "cell_type": "code",
      "metadata": {
        "colab": {
          "base_uri": "https://localhost:8080/"
        },
        "id": "E1CNntW4WK2I",
        "outputId": "5ff9e24a-5e42-4443-b89d-d0cdfa2d17c8"
      },
      "source": [
        "print(\"Number of duplicates in data : {}\".format(len(fake[fake.duplicated()]))) "
      ],
      "execution_count": 161,
      "outputs": [
        {
          "output_type": "stream",
          "name": "stdout",
          "text": [
            "Number of duplicates in data : 5570\n"
          ]
        }
      ]
    },
    {
      "cell_type": "code",
      "metadata": {
        "id": "868ZOH6GWK2I"
      },
      "source": [
        "#remove duplicated rows\n",
        "fake.drop_duplicates(inplace=True)"
      ],
      "execution_count": 162,
      "outputs": []
    },
    {
      "cell_type": "code",
      "metadata": {
        "colab": {
          "base_uri": "https://localhost:8080/"
        },
        "id": "OdphqpWQWK2I",
        "outputId": "3ee1f2f8-9e5f-4763-bdfb-56720ea23ebf"
      },
      "source": [
        "print(\"Number of duplicates in data after using drop_duplicates: {}\".format(len(fake[fake.duplicated()]))) "
      ],
      "execution_count": 163,
      "outputs": [
        {
          "output_type": "stream",
          "name": "stdout",
          "text": [
            "Number of duplicates in data after using drop_duplicates: 0\n"
          ]
        }
      ]
    },
    {
      "cell_type": "markdown",
      "metadata": {
        "id": "XPwUyPRLcIoJ"
      },
      "source": [
        "**All Dataset**"
      ]
    },
    {
      "cell_type": "code",
      "metadata": {
        "id": "K--jz6OVHHKC"
      },
      "source": [
        "dataset = true.append(fake, ignore_index=True)"
      ],
      "execution_count": 164,
      "outputs": []
    },
    {
      "cell_type": "code",
      "metadata": {
        "colab": {
          "base_uri": "https://localhost:8080/",
          "height": 204
        },
        "id": "8tNkUkFsHHEn",
        "outputId": "0fa5ef9a-86da-400e-cfb9-a3522ab7293b"
      },
      "source": [
        "dataset.sample(5)"
      ],
      "execution_count": 165,
      "outputs": [
        {
          "output_type": "execute_result",
          "data": {
            "text/html": [
              "<div>\n",
              "<style scoped>\n",
              "    .dataframe tbody tr th:only-of-type {\n",
              "        vertical-align: middle;\n",
              "    }\n",
              "\n",
              "    .dataframe tbody tr th {\n",
              "        vertical-align: top;\n",
              "    }\n",
              "\n",
              "    .dataframe thead th {\n",
              "        text-align: right;\n",
              "    }\n",
              "</style>\n",
              "<table border=\"1\" class=\"dataframe\">\n",
              "  <thead>\n",
              "    <tr style=\"text-align: right;\">\n",
              "      <th></th>\n",
              "      <th>text</th>\n",
              "      <th>class</th>\n",
              "    </tr>\n",
              "  </thead>\n",
              "  <tbody>\n",
              "    <tr>\n",
              "      <th>38306</th>\n",
              "      <td>first grade teacher reads transgender book to ...</td>\n",
              "      <td>0</td>\n",
              "    </tr>\n",
              "    <tr>\n",
              "      <th>9709</th>\n",
              "      <td>u.s. lawmakers debate funding gimmick in defen...</td>\n",
              "      <td>1</td>\n",
              "    </tr>\n",
              "    <tr>\n",
              "      <th>19610</th>\n",
              "      <td>tillerson, russia's lavrov to meet on sunday: ...</td>\n",
              "      <td>1</td>\n",
              "    </tr>\n",
              "    <tr>\n",
              "      <th>27845</th>\n",
              "      <td>carly fiorina: ted cruz’s chances of winning ...</td>\n",
              "      <td>0</td>\n",
              "    </tr>\n",
              "    <tr>\n",
              "      <th>28988</th>\n",
              "      <td>meet the incredibly racist gop senator that j...</td>\n",
              "      <td>0</td>\n",
              "    </tr>\n",
              "  </tbody>\n",
              "</table>\n",
              "</div>"
            ],
            "text/plain": [
              "                                                    text  class\n",
              "38306  first grade teacher reads transgender book to ...      0\n",
              "9709   u.s. lawmakers debate funding gimmick in defen...      1\n",
              "19610  tillerson, russia's lavrov to meet on sunday: ...      1\n",
              "27845   carly fiorina: ted cruz’s chances of winning ...      0\n",
              "28988   meet the incredibly racist gop senator that j...      0"
            ]
          },
          "metadata": {},
          "execution_count": 165
        }
      ]
    },
    {
      "cell_type": "code",
      "metadata": {
        "id": "wjv2jJSfHG4_",
        "colab": {
          "base_uri": "https://localhost:8080/"
        },
        "outputId": "318e2a8d-b161-44a9-a2ea-b6e84344c682"
      },
      "source": [
        "!pip install spacy==2.2.3\n",
        "!python -m spacy download en_core_web_sm\n",
        "!pip install beautifulsoup4==4.9.1\n",
        "!pip install textblob==0.15.3\n",
        "!pip install git+https://github.com/laxmimerit/preprocess_kgptalkie.git --upgrade --force-reinstall"
      ],
      "execution_count": 166,
      "outputs": [
        {
          "output_type": "stream",
          "name": "stdout",
          "text": [
            "Collecting spacy==2.2.3\n",
            "  Downloading spacy-2.2.3-cp37-cp37m-manylinux1_x86_64.whl (10.4 MB)\n",
            "\u001b[K     |████████████████████████████████| 10.4 MB 4.6 MB/s \n",
            "\u001b[?25hRequirement already satisfied: setuptools in /usr/local/lib/python3.7/dist-packages (from spacy==2.2.3) (57.4.0)\n",
            "Requirement already satisfied: preshed<3.1.0,>=3.0.2 in /usr/local/lib/python3.7/dist-packages (from spacy==2.2.3) (3.0.5)\n",
            "Requirement already satisfied: murmurhash<1.1.0,>=0.28.0 in /usr/local/lib/python3.7/dist-packages (from spacy==2.2.3) (1.0.5)\n",
            "Requirement already satisfied: catalogue<1.1.0,>=0.0.7 in /usr/local/lib/python3.7/dist-packages (from spacy==2.2.3) (1.0.0)\n",
            "Requirement already satisfied: plac<1.2.0,>=0.9.6 in /usr/local/lib/python3.7/dist-packages (from spacy==2.2.3) (1.1.3)\n",
            "Requirement already satisfied: cymem<2.1.0,>=2.0.2 in /usr/local/lib/python3.7/dist-packages (from spacy==2.2.3) (2.0.5)\n",
            "Requirement already satisfied: wasabi<1.1.0,>=0.4.0 in /usr/local/lib/python3.7/dist-packages (from spacy==2.2.3) (0.8.2)\n",
            "Requirement already satisfied: srsly<1.1.0,>=0.1.0 in /usr/local/lib/python3.7/dist-packages (from spacy==2.2.3) (1.0.5)\n",
            "Requirement already satisfied: blis<0.5.0,>=0.4.0 in /usr/local/lib/python3.7/dist-packages (from spacy==2.2.3) (0.4.1)\n",
            "Collecting thinc<7.4.0,>=7.3.0\n",
            "  Downloading thinc-7.3.1-cp37-cp37m-manylinux1_x86_64.whl (2.2 MB)\n",
            "\u001b[K     |████████████████████████████████| 2.2 MB 34.9 MB/s \n",
            "\u001b[?25hRequirement already satisfied: numpy>=1.15.0 in /usr/local/lib/python3.7/dist-packages (from spacy==2.2.3) (1.19.5)\n",
            "Requirement already satisfied: requests<3.0.0,>=2.13.0 in /usr/local/lib/python3.7/dist-packages (from spacy==2.2.3) (2.23.0)\n",
            "Requirement already satisfied: importlib-metadata>=0.20 in /usr/local/lib/python3.7/dist-packages (from catalogue<1.1.0,>=0.0.7->spacy==2.2.3) (4.8.1)\n",
            "Requirement already satisfied: zipp>=0.5 in /usr/local/lib/python3.7/dist-packages (from importlib-metadata>=0.20->catalogue<1.1.0,>=0.0.7->spacy==2.2.3) (3.5.0)\n",
            "Requirement already satisfied: typing-extensions>=3.6.4 in /usr/local/lib/python3.7/dist-packages (from importlib-metadata>=0.20->catalogue<1.1.0,>=0.0.7->spacy==2.2.3) (3.7.4.3)\n",
            "Requirement already satisfied: chardet<4,>=3.0.2 in /usr/local/lib/python3.7/dist-packages (from requests<3.0.0,>=2.13.0->spacy==2.2.3) (3.0.4)\n",
            "Requirement already satisfied: certifi>=2017.4.17 in /usr/local/lib/python3.7/dist-packages (from requests<3.0.0,>=2.13.0->spacy==2.2.3) (2021.5.30)\n",
            "Requirement already satisfied: urllib3!=1.25.0,!=1.25.1,<1.26,>=1.21.1 in /usr/local/lib/python3.7/dist-packages (from requests<3.0.0,>=2.13.0->spacy==2.2.3) (1.24.3)\n",
            "Requirement already satisfied: idna<3,>=2.5 in /usr/local/lib/python3.7/dist-packages (from requests<3.0.0,>=2.13.0->spacy==2.2.3) (2.10)\n",
            "Requirement already satisfied: tqdm<5.0.0,>=4.10.0 in /usr/local/lib/python3.7/dist-packages (from thinc<7.4.0,>=7.3.0->spacy==2.2.3) (4.62.2)\n",
            "Installing collected packages: thinc, spacy\n",
            "  Attempting uninstall: thinc\n",
            "    Found existing installation: thinc 7.4.0\n",
            "    Uninstalling thinc-7.4.0:\n",
            "      Successfully uninstalled thinc-7.4.0\n",
            "  Attempting uninstall: spacy\n",
            "    Found existing installation: spacy 2.2.4\n",
            "    Uninstalling spacy-2.2.4:\n",
            "      Successfully uninstalled spacy-2.2.4\n",
            "Successfully installed spacy-2.2.3 thinc-7.3.1\n",
            "Collecting en_core_web_sm==2.2.5\n",
            "  Downloading https://github.com/explosion/spacy-models/releases/download/en_core_web_sm-2.2.5/en_core_web_sm-2.2.5.tar.gz (12.0 MB)\n",
            "\u001b[K     |████████████████████████████████| 12.0 MB 5.1 MB/s \n",
            "\u001b[?25hRequirement already satisfied: spacy>=2.2.2 in /usr/local/lib/python3.7/dist-packages (from en_core_web_sm==2.2.5) (2.2.3)\n",
            "Requirement already satisfied: srsly<1.1.0,>=0.1.0 in /usr/local/lib/python3.7/dist-packages (from spacy>=2.2.2->en_core_web_sm==2.2.5) (1.0.5)\n",
            "Requirement already satisfied: murmurhash<1.1.0,>=0.28.0 in /usr/local/lib/python3.7/dist-packages (from spacy>=2.2.2->en_core_web_sm==2.2.5) (1.0.5)\n",
            "Requirement already satisfied: catalogue<1.1.0,>=0.0.7 in /usr/local/lib/python3.7/dist-packages (from spacy>=2.2.2->en_core_web_sm==2.2.5) (1.0.0)\n",
            "Requirement already satisfied: cymem<2.1.0,>=2.0.2 in /usr/local/lib/python3.7/dist-packages (from spacy>=2.2.2->en_core_web_sm==2.2.5) (2.0.5)\n",
            "Requirement already satisfied: numpy>=1.15.0 in /usr/local/lib/python3.7/dist-packages (from spacy>=2.2.2->en_core_web_sm==2.2.5) (1.19.5)\n",
            "Requirement already satisfied: requests<3.0.0,>=2.13.0 in /usr/local/lib/python3.7/dist-packages (from spacy>=2.2.2->en_core_web_sm==2.2.5) (2.23.0)\n",
            "Requirement already satisfied: setuptools in /usr/local/lib/python3.7/dist-packages (from spacy>=2.2.2->en_core_web_sm==2.2.5) (57.4.0)\n",
            "Requirement already satisfied: blis<0.5.0,>=0.4.0 in /usr/local/lib/python3.7/dist-packages (from spacy>=2.2.2->en_core_web_sm==2.2.5) (0.4.1)\n",
            "Requirement already satisfied: wasabi<1.1.0,>=0.4.0 in /usr/local/lib/python3.7/dist-packages (from spacy>=2.2.2->en_core_web_sm==2.2.5) (0.8.2)\n",
            "Requirement already satisfied: preshed<3.1.0,>=3.0.2 in /usr/local/lib/python3.7/dist-packages (from spacy>=2.2.2->en_core_web_sm==2.2.5) (3.0.5)\n",
            "Requirement already satisfied: plac<1.2.0,>=0.9.6 in /usr/local/lib/python3.7/dist-packages (from spacy>=2.2.2->en_core_web_sm==2.2.5) (1.1.3)\n",
            "Requirement already satisfied: thinc<7.4.0,>=7.3.0 in /usr/local/lib/python3.7/dist-packages (from spacy>=2.2.2->en_core_web_sm==2.2.5) (7.3.1)\n",
            "Requirement already satisfied: importlib-metadata>=0.20 in /usr/local/lib/python3.7/dist-packages (from catalogue<1.1.0,>=0.0.7->spacy>=2.2.2->en_core_web_sm==2.2.5) (4.8.1)\n",
            "Requirement already satisfied: zipp>=0.5 in /usr/local/lib/python3.7/dist-packages (from importlib-metadata>=0.20->catalogue<1.1.0,>=0.0.7->spacy>=2.2.2->en_core_web_sm==2.2.5) (3.5.0)\n",
            "Requirement already satisfied: typing-extensions>=3.6.4 in /usr/local/lib/python3.7/dist-packages (from importlib-metadata>=0.20->catalogue<1.1.0,>=0.0.7->spacy>=2.2.2->en_core_web_sm==2.2.5) (3.7.4.3)\n",
            "Requirement already satisfied: idna<3,>=2.5 in /usr/local/lib/python3.7/dist-packages (from requests<3.0.0,>=2.13.0->spacy>=2.2.2->en_core_web_sm==2.2.5) (2.10)\n",
            "Requirement already satisfied: certifi>=2017.4.17 in /usr/local/lib/python3.7/dist-packages (from requests<3.0.0,>=2.13.0->spacy>=2.2.2->en_core_web_sm==2.2.5) (2021.5.30)\n",
            "Requirement already satisfied: chardet<4,>=3.0.2 in /usr/local/lib/python3.7/dist-packages (from requests<3.0.0,>=2.13.0->spacy>=2.2.2->en_core_web_sm==2.2.5) (3.0.4)\n",
            "Requirement already satisfied: urllib3!=1.25.0,!=1.25.1,<1.26,>=1.21.1 in /usr/local/lib/python3.7/dist-packages (from requests<3.0.0,>=2.13.0->spacy>=2.2.2->en_core_web_sm==2.2.5) (1.24.3)\n",
            "Requirement already satisfied: tqdm<5.0.0,>=4.10.0 in /usr/local/lib/python3.7/dist-packages (from thinc<7.4.0,>=7.3.0->spacy>=2.2.2->en_core_web_sm==2.2.5) (4.62.2)\n",
            "\u001b[38;5;2m✔ Download and installation successful\u001b[0m\n",
            "You can now load the model via spacy.load('en_core_web_sm')\n",
            "Collecting beautifulsoup4==4.9.1\n",
            "  Downloading beautifulsoup4-4.9.1-py3-none-any.whl (115 kB)\n",
            "\u001b[K     |████████████████████████████████| 115 kB 5.3 MB/s \n",
            "\u001b[?25hCollecting soupsieve>1.2\n",
            "  Downloading soupsieve-2.2.1-py3-none-any.whl (33 kB)\n",
            "Installing collected packages: soupsieve, beautifulsoup4\n",
            "  Attempting uninstall: beautifulsoup4\n",
            "    Found existing installation: beautifulsoup4 4.6.3\n",
            "    Uninstalling beautifulsoup4-4.6.3:\n",
            "      Successfully uninstalled beautifulsoup4-4.6.3\n",
            "Successfully installed beautifulsoup4-4.9.1 soupsieve-2.2.1\n",
            "Requirement already satisfied: textblob==0.15.3 in /usr/local/lib/python3.7/dist-packages (0.15.3)\n",
            "Requirement already satisfied: nltk>=3.1 in /usr/local/lib/python3.7/dist-packages (from textblob==0.15.3) (3.2.5)\n",
            "Requirement already satisfied: six in /usr/local/lib/python3.7/dist-packages (from nltk>=3.1->textblob==0.15.3) (1.15.0)\n",
            "Collecting git+https://github.com/laxmimerit/preprocess_kgptalkie.git\n",
            "  Cloning https://github.com/laxmimerit/preprocess_kgptalkie.git to /tmp/pip-req-build-jmdd861r\n",
            "  Running command git clone -q https://github.com/laxmimerit/preprocess_kgptalkie.git /tmp/pip-req-build-jmdd861r\n",
            "Building wheels for collected packages: preprocess-kgptalkie\n",
            "  Building wheel for preprocess-kgptalkie (setup.py) ... \u001b[?25l\u001b[?25hdone\n",
            "  Created wheel for preprocess-kgptalkie: filename=preprocess_kgptalkie-0.1.3-py3-none-any.whl size=11754 sha256=bd3fe22a165a14aa4d12ad593216436903cf6cff7e7cb02ce8674c9453578336\n",
            "  Stored in directory: /tmp/pip-ephem-wheel-cache-vnlrherx/wheels/0d/b3/29/bfe3deffda68980088d17b81331be6667e837ffb4a071bae82\n",
            "Successfully built preprocess-kgptalkie\n",
            "Installing collected packages: preprocess-kgptalkie\n",
            "Successfully installed preprocess-kgptalkie-0.1.3\n"
          ]
        }
      ]
    },
    {
      "cell_type": "code",
      "metadata": {
        "id": "S33waFrnTr3o"
      },
      "source": [
        "import preprocess_kgptalkie as ps"
      ],
      "execution_count": 167,
      "outputs": []
    },
    {
      "cell_type": "code",
      "metadata": {
        "id": "_bxvGRtlU4h0"
      },
      "source": [
        "# clean data and remove speci\n",
        "dataset['text'] = dataset['text'].apply(lambda x : ps.remove_special_chars(x))"
      ],
      "execution_count": 168,
      "outputs": []
    },
    {
      "cell_type": "code",
      "metadata": {
        "id": "7Cj05Zq8rYkh"
      },
      "source": [
        "# take text and preprocess 'remove stopwords [a, the, and, thus, ... etc] and punctations[,%$ ..etc] and len of text less than 3' \n",
        "def clean_text(text):\n",
        "    \"\"\"\n",
        "        text: a string \n",
        "        return: cleaned string\n",
        "    \"\"\"\n",
        "    result = []\n",
        "    for token in simple_preprocess(text):\n",
        "        if token not in STOPWORDS and token not in punctation and  len(token) >= 3 :\n",
        "            token = token.lower() \n",
        "            result.append(token)    \n",
        "    return \" \".join(result)"
      ],
      "execution_count": 169,
      "outputs": []
    },
    {
      "cell_type": "code",
      "metadata": {
        "colab": {
          "base_uri": "https://localhost:8080/",
          "height": 204
        },
        "id": "F7uYHK9drhSO",
        "outputId": "3915eb6f-303b-42b7-ade4-39d6a7f0b406"
      },
      "source": [
        "dataset['text'] = dataset['text'].map(clean_text)\n",
        "dataset.head()"
      ],
      "execution_count": 170,
      "outputs": [
        {
          "output_type": "execute_result",
          "data": {
            "text/html": [
              "<div>\n",
              "<style scoped>\n",
              "    .dataframe tbody tr th:only-of-type {\n",
              "        vertical-align: middle;\n",
              "    }\n",
              "\n",
              "    .dataframe tbody tr th {\n",
              "        vertical-align: top;\n",
              "    }\n",
              "\n",
              "    .dataframe thead th {\n",
              "        text-align: right;\n",
              "    }\n",
              "</style>\n",
              "<table border=\"1\" class=\"dataframe\">\n",
              "  <thead>\n",
              "    <tr style=\"text-align: right;\">\n",
              "      <th></th>\n",
              "      <th>text</th>\n",
              "      <th>class</th>\n",
              "    </tr>\n",
              "  </thead>\n",
              "  <tbody>\n",
              "    <tr>\n",
              "      <th>0</th>\n",
              "      <td>budget fight looms republicans flip fiscal scr...</td>\n",
              "      <td>1</td>\n",
              "    </tr>\n",
              "    <tr>\n",
              "      <th>1</th>\n",
              "      <td>military accept transgender recruits monday pe...</td>\n",
              "      <td>1</td>\n",
              "    </tr>\n",
              "    <tr>\n",
              "      <th>2</th>\n",
              "      <td>senior republican senator let mueller job spec...</td>\n",
              "      <td>1</td>\n",
              "    </tr>\n",
              "    <tr>\n",
              "      <th>3</th>\n",
              "      <td>fbi russia probe helped australian diplomat ti...</td>\n",
              "      <td>1</td>\n",
              "    </tr>\n",
              "    <tr>\n",
              "      <th>4</th>\n",
              "      <td>trump wants postal service charge amazon shipm...</td>\n",
              "      <td>1</td>\n",
              "    </tr>\n",
              "  </tbody>\n",
              "</table>\n",
              "</div>"
            ],
            "text/plain": [
              "                                                text  class\n",
              "0  budget fight looms republicans flip fiscal scr...      1\n",
              "1  military accept transgender recruits monday pe...      1\n",
              "2  senior republican senator let mueller job spec...      1\n",
              "3  fbi russia probe helped australian diplomat ti...      1\n",
              "4  trump wants postal service charge amazon shipm...      1"
            ]
          },
          "metadata": {},
          "execution_count": 170
        }
      ]
    },
    {
      "cell_type": "markdown",
      "metadata": {
        "id": "vo7MStF-X_XY"
      },
      "source": [
        "**Vectorization 'Word2Vector'**"
      ]
    },
    {
      "cell_type": "code",
      "metadata": {
        "id": "-Ou4LEqkYSjL"
      },
      "source": [
        "X = [t.split() for t in dataset.text.tolist()]"
      ],
      "execution_count": 171,
      "outputs": []
    },
    {
      "cell_type": "code",
      "metadata": {
        "id": "QTupaNzJYSh0"
      },
      "source": [
        "y = dataset['class'].values"
      ],
      "execution_count": 172,
      "outputs": []
    },
    {
      "cell_type": "code",
      "metadata": {
        "colab": {
          "base_uri": "https://localhost:8080/"
        },
        "id": "5oWzF-YJYSeU",
        "outputId": "47ed3716-7907-4070-d225-63fa7b47aefe"
      },
      "source": [
        "print(X[0])"
      ],
      "execution_count": 173,
      "outputs": [
        {
          "output_type": "stream",
          "name": "stdout",
          "text": [
            "['budget', 'fight', 'looms', 'republicans', 'flip', 'fiscal', 'script', 'head', 'conservative', 'republican', 'faction', 'congress', 'voted', 'month', 'huge', 'expansion', 'national', 'debt', 'pay', 'tax', 'cuts', 'called', 'fiscal', 'conservative', 'sunday', 'urged', 'budget', 'restraint', 'keeping', 'sharp', 'pivot', 'way', 'republicans', 'representative', 'mark', 'meadows', 'speaking', 'cbs', 'face', 'nation', 'drew', 'hard', 'line', 'federal', 'spending', 'lawmakers', 'bracing', 'battle', 'january', 'return', 'holidays', 'wednesday', 'lawmakers', 'begin', 'trying', 'pass', 'federal', 'budget', 'fight', 'likely', 'linked', 'issues', 'immigration', 'policy', 'november', 'congressional', 'election', 'campaigns', 'approach', 'republicans', 'seek', 'control', 'congress', 'president', 'donald', 'trump', 'republicans', 'want', 'big', 'budget', 'increase', 'military', 'spending', 'democrats', 'want', 'proportional', 'increases', 'nondefense', 'discretionary', 'spending', 'programs', 'support', 'education', 'scientific', 'research', 'infrastructure', 'public', 'health', 'environmental', 'protection', 'trump', 'administration', 'willing', 'going', 'increase', 'nondefense', 'discretionary', 'spending', 'percent', 'meadows', 'chairman', 'small', 'influential', 'house', 'freedom', 'caucus', 'said', 'program', 'democrats', 'saying', 'thats', 'need', 'government', 'pay', 'raise', 'percent', 'fiscal', 'conservative', 'dont', 'rationale', 'eventually', 'run', 'peoples', 'money', 'said', 'meadows', 'republicans', 'voted', 'late', 'december', 'partys', 'debtfinanced', 'tax', 'overhaul', 'expected', 'balloon', 'federal', 'budget', 'deficit', 'add', 'trillion', 'years', 'trillion', 'national', 'debt', 'interesting', 'hear', 'mark', 'talk', 'fiscal', 'responsibility', 'democratic', 'representative', 'joseph', 'crowley', 'said', 'cbs', 'crowley', 'said', 'republican', 'tax', 'require', 'united', 'states', 'borrow', 'trillion', 'paid', 'future', 'generations', 'finance', 'tax', 'cuts', 'corporations', 'rich', 'fiscally', 'responsible', 'bills', 'weve', 'seen', 'passed', 'history', 'house', 'representatives', 'think', 'going', 'paying', 'years', 'come', 'crowley', 'said', 'republicans', 'insist', 'tax', 'package', 'biggest', 'tax', 'overhaul', 'years', 'boost', 'economy', 'job', 'growth', 'house', 'speaker', 'paul', 'ryan', 'supported', 'tax', 'recently', 'went', 'meadows', 'making', 'clear', 'radio', 'interview', 'welfare', 'entitlement', 'reform', 'party', 'calls', 'republican', 'priority', 'republican', 'parlance', 'entitlement', 'programs', 'mean', 'food', 'stamps', 'housing', 'assistance', 'medicare', 'medicaid', 'health', 'insurance', 'elderly', 'poor', 'disabled', 'programs', 'created', 'washington', 'assist', 'needy', 'democrats', 'seized', 'ryans', 'early', 'december', 'remarks', 'saying', 'showed', 'republicans', 'try', 'pay', 'tax', 'overhaul', 'seeking', 'spending', 'cuts', 'social', 'programs', 'goals', 'house', 'republicans', 'seat', 'senate', 'votes', 'democrats', 'needed', 'approve', 'budget', 'prevent', 'government', 'shutdown', 'democrats', 'use', 'leverage', 'senate', 'republicans', 'narrowly', 'control', 'defend', 'discretionary', 'nondefense', 'programs', 'social', 'spending', 'tackling', 'issue', 'dreamers', 'people', 'brought', 'illegally', 'country', 'children', 'trump', 'september', 'march', 'expiration', 'date', 'deferred', 'action', 'childhood', 'arrivals', 'daca', 'program', 'protects', 'young', 'immigrants', 'deportation', 'provides', 'work', 'permits', 'president', 'said', 'recent', 'twitter', 'messages', 'wants', 'funding', 'proposed', 'mexican', 'border', 'wall', 'immigration', 'law', 'changes', 'exchange', 'agreeing', 'help', 'dreamers', 'representative', 'debbie', 'dingell', 'told', 'cbs', 'favor', 'linking', 'issue', 'policy', 'objectives', 'wall', 'funding', 'need', 'daca', 'clean', 'said', 'wednesday', 'trump', 'aides', 'meet', 'congressional', 'leaders', 'discuss', 'issues', 'followed', 'weekend', 'strategy', 'sessions', 'trump', 'republican', 'leaders', 'jan', 'white', 'house', 'said', 'trump', 'scheduled', 'meet', 'sunday', 'florida', 'republican', 'governor', 'rick', 'scott', 'wants', 'emergency', 'aid', 'house', 'passed', 'billion', 'aid', 'package', 'hurricanes', 'florida', 'texas', 'puerto', 'rico', 'wildfires', 'california', 'package', 'far', 'exceeded', 'billion', 'requested', 'trump', 'administration', 'senate', 'voted', 'aid']\n"
          ]
        }
      ]
    },
    {
      "cell_type": "code",
      "metadata": {
        "id": "yjoP2Qf9YSc-"
      },
      "source": [
        "Dim = 100\n",
        "w2v_model = gensim.models.Word2Vec(sentences=X, size=Dim, window=10, min_count=1)\n"
      ],
      "execution_count": 174,
      "outputs": []
    },
    {
      "cell_type": "code",
      "metadata": {
        "colab": {
          "base_uri": "https://localhost:8080/"
        },
        "id": "XgaLwF4dbDbe",
        "outputId": "9140ea9a-55e0-47b0-b052-c9269dfdda40"
      },
      "source": [
        "w2v_model.wv['egypt']"
      ],
      "execution_count": 175,
      "outputs": [
        {
          "output_type": "execute_result",
          "data": {
            "text/plain": [
              "array([-1.1916304e+00, -3.0227366e-01, -1.4515913e+00,  1.7536169e+00,\n",
              "       -1.5517637e+00,  3.4721750e-01,  6.6248572e-01,  1.6411624e+00,\n",
              "       -8.7402456e-02, -6.0450482e-01, -1.7555960e-01, -1.6060834e+00,\n",
              "        9.8246044e-01, -2.8042679e+00,  3.6397785e-01,  2.7361456e-01,\n",
              "        2.0588374e+00, -9.3742251e-01, -1.9481902e+00, -7.4129122e-01,\n",
              "        1.6992738e+00,  1.7743609e+00,  1.3938837e+00, -3.3657126e+00,\n",
              "       -9.3336028e-01, -1.9969678e+00, -2.2281139e+00, -2.6697834e+00,\n",
              "        1.5777607e+00, -3.0289222e-02,  3.3402261e-01, -3.0919618e-03,\n",
              "        7.5262326e-01, -7.8612500e-01, -1.0377108e+00, -1.1441387e+00,\n",
              "       -2.9255078e+00,  1.2657229e+00, -1.8276244e+00, -2.1474108e-01,\n",
              "       -4.8849255e-01, -4.7250047e-01, -7.4313784e-01, -1.7172688e+00,\n",
              "        5.8182579e-01, -1.7718141e+00,  1.2134136e+00, -6.8028516e-01,\n",
              "       -5.7706958e-01, -1.4031073e-01,  3.9452958e+00,  1.4406539e+00,\n",
              "        3.8076794e-01, -1.8551303e+00, -1.5151026e+00,  1.7296933e+00,\n",
              "       -5.7171565e-01,  1.0943823e+00,  2.4979861e+00, -6.6059697e-01,\n",
              "       -7.1252543e-01,  1.9923603e-02, -2.3641548e+00, -1.2255309e+00,\n",
              "       -1.8130912e-01, -7.0141959e-01, -4.9177284e+00, -1.9533530e+00,\n",
              "       -2.4357156e-01, -3.8383842e-01, -1.7296026e+00, -1.1259320e+00,\n",
              "       -2.9346040e-01,  2.5006518e-01, -1.2129246e+00, -3.8244268e-01,\n",
              "        1.2554572e+00,  2.5755830e+00, -1.2411197e+00,  5.0081678e-02,\n",
              "        3.5559580e-01,  1.4094262e+00, -1.8015683e+00,  1.8286072e+00,\n",
              "        1.2178414e+00,  8.6770885e-02, -3.0528143e-01, -3.9437538e-01,\n",
              "       -6.4337671e-01, -4.7195110e+00,  3.5081547e-01,  1.2269746e-01,\n",
              "        1.5304065e+00, -2.3826931e+00, -4.9768114e-01, -9.6717834e-02,\n",
              "        5.0408846e-01,  1.1320320e+00, -2.1047986e+00,  7.8582966e-01],\n",
              "      dtype=float32)"
            ]
          },
          "metadata": {},
          "execution_count": 175
        }
      ]
    },
    {
      "cell_type": "code",
      "metadata": {
        "colab": {
          "base_uri": "https://localhost:8080/"
        },
        "id": "C7JLh2d_bDWO",
        "outputId": "607a32d6-4a3f-47c9-ab6b-e0de9f49d884"
      },
      "source": [
        "w2v_model.similar_by_word('egypt')"
      ],
      "execution_count": 176,
      "outputs": [
        {
          "output_type": "stream",
          "name": "stderr",
          "text": [
            "/usr/local/lib/python3.7/dist-packages/ipykernel_launcher.py:1: DeprecationWarning: Call to deprecated `similar_by_word` (Method will be removed in 4.0.0, use self.wv.similar_by_word() instead).\n",
            "  \"\"\"Entry point for launching an IPython kernel.\n"
          ]
        },
        {
          "output_type": "execute_result",
          "data": {
            "text/plain": [
              "[('egyptian', 0.7754193544387817),\n",
              " ('cairo', 0.7679709196090698),\n",
              " ('kuwait', 0.7395327687263489),\n",
              " ('bahrain', 0.730968177318573),\n",
              " ('uae', 0.715132474899292),\n",
              " ('egypts', 0.6827346086502075),\n",
              " ('tunisia', 0.6700365543365479),\n",
              " ('jordanian', 0.6676992177963257),\n",
              " ('qatar', 0.6674880981445312),\n",
              " ('alsisi', 0.6622712016105652)]"
            ]
          },
          "metadata": {},
          "execution_count": 176
        }
      ]
    },
    {
      "cell_type": "code",
      "metadata": {
        "id": "S0UJNU46bDU5"
      },
      "source": [
        "toknizer = Tokenizer()\n",
        "toknizer.fit_on_texts(X)\n",
        "X = toknizer.texts_to_sequences(X)"
      ],
      "execution_count": 177,
      "outputs": []
    },
    {
      "cell_type": "code",
      "metadata": {
        "id": "_epqJCmLc6BU",
        "colab": {
          "base_uri": "https://localhost:8080/"
        },
        "outputId": "039c6788-bfbf-461a-e52e-2b0c9fde0370"
      },
      "source": [
        "toknizer.word_index"
      ],
      "execution_count": 178,
      "outputs": [
        {
          "output_type": "execute_result",
          "data": {
            "text/plain": [
              "{'said': 1,\n",
              " 'trump': 2,\n",
              " 'president': 3,\n",
              " 'people': 4,\n",
              " 'state': 5,\n",
              " 'new': 6,\n",
              " 'house': 7,\n",
              " 'donald': 8,\n",
              " 'states': 9,\n",
              " 'government': 10,\n",
              " 'republican': 11,\n",
              " 'clinton': 12,\n",
              " 'obama': 13,\n",
              " 'united': 14,\n",
              " 'told': 15,\n",
              " 'white': 16,\n",
              " 'campaign': 17,\n",
              " 'like': 18,\n",
              " 'election': 19,\n",
              " 'party': 20,\n",
              " 'time': 21,\n",
              " 'news': 22,\n",
              " 'year': 23,\n",
              " 'country': 24,\n",
              " 'years': 25,\n",
              " 'security': 26,\n",
              " 'trumps': 27,\n",
              " 'republicans': 28,\n",
              " 'hillary': 29,\n",
              " 'court': 30,\n",
              " 'national': 31,\n",
              " 'percent': 32,\n",
              " 'video': 33,\n",
              " 'law': 34,\n",
              " 'political': 35,\n",
              " 'presidential': 36,\n",
              " 'north': 37,\n",
              " 'going': 38,\n",
              " 'senate': 39,\n",
              " 'police': 40,\n",
              " 'media': 41,\n",
              " 'russia': 42,\n",
              " 'vote': 43,\n",
              " 'democratic': 44,\n",
              " 'support': 45,\n",
              " 'says': 46,\n",
              " 'american': 47,\n",
              " 'administration': 48,\n",
              " 'week': 49,\n",
              " 'officials': 50,\n",
              " 'including': 51,\n",
              " 'foreign': 52,\n",
              " 'group': 53,\n",
              " 'think': 54,\n",
              " 'know': 55,\n",
              " 'office': 56,\n",
              " 'military': 57,\n",
              " 'statement': 58,\n",
              " 'according': 59,\n",
              " 'tax': 60,\n",
              " 'way': 61,\n",
              " 'federal': 62,\n",
              " 'called': 63,\n",
              " 'million': 64,\n",
              " 'saying': 65,\n",
              " 'america': 66,\n",
              " 'public': 67,\n",
              " 'right': 68,\n",
              " 'world': 69,\n",
              " 'image': 70,\n",
              " 'want': 71,\n",
              " 'minister': 72,\n",
              " 'tuesday': 73,\n",
              " 'department': 74,\n",
              " 'congress': 75,\n",
              " 'washington': 76,\n",
              " 'china': 77,\n",
              " 'wednesday': 78,\n",
              " 'democrats': 79,\n",
              " 'thursday': 80,\n",
              " 'russian': 81,\n",
              " 'day': 82,\n",
              " 'friday': 83,\n",
              " 'women': 84,\n",
              " 'monday': 85,\n",
              " 'deal': 86,\n",
              " 'policy': 87,\n",
              " 'work': 88,\n",
              " 'asked': 89,\n",
              " 'rights': 90,\n",
              " 'korea': 91,\n",
              " 'official': 92,\n",
              " 'committee': 93,\n",
              " 'secretary': 94,\n",
              " 'war': 95,\n",
              " 'leader': 96,\n",
              " 'city': 97,\n",
              " 'help': 98,\n",
              " 'general': 99,\n",
              " 'senator': 100,\n",
              " 'need': 101,\n",
              " 'reuters': 102,\n",
              " 'americans': 103,\n",
              " 'black': 104,\n",
              " 'meeting': 105,\n",
              " 'candidate': 106,\n",
              " 'case': 107,\n",
              " 'man': 108,\n",
              " 'york': 109,\n",
              " 'order': 110,\n",
              " 'members': 111,\n",
              " 'iran': 112,\n",
              " 'use': 113,\n",
              " 'twitter': 114,\n",
              " 'trade': 115,\n",
              " 'end': 116,\n",
              " 'power': 117,\n",
              " 'month': 118,\n",
              " 'good': 119,\n",
              " 'countries': 120,\n",
              " 'took': 121,\n",
              " 'come': 122,\n",
              " 'nuclear': 123,\n",
              " 'south': 124,\n",
              " 'plan': 125,\n",
              " 'voters': 126,\n",
              " 'leaders': 127,\n",
              " 'report': 128,\n",
              " 'intelligence': 129,\n",
              " 'attack': 130,\n",
              " 'investigation': 131,\n",
              " 'justice': 132,\n",
              " 'money': 133,\n",
              " 'decision': 134,\n",
              " 'business': 135,\n",
              " 'change': 136,\n",
              " 'international': 137,\n",
              " 'times': 138,\n",
              " 'left': 139,\n",
              " 'days': 140,\n",
              " 'groups': 141,\n",
              " 'fbi': 142,\n",
              " 'long': 143,\n",
              " 'speech': 144,\n",
              " 'syria': 145,\n",
              " 'information': 146,\n",
              " 'chief': 147,\n",
              " 'conservative': 148,\n",
              " 'interview': 149,\n",
              " 'likely': 150,\n",
              " 'far': 151,\n",
              " 'health': 152,\n",
              " 'family': 153,\n",
              " 'fact': 154,\n",
              " 'reported': 155,\n",
              " 'director': 156,\n",
              " 'billion': 157,\n",
              " 'agency': 158,\n",
              " 'months': 159,\n",
              " 'clear': 160,\n",
              " 'border': 161,\n",
              " 'islamic': 162,\n",
              " 'supporters': 163,\n",
              " 'fox': 164,\n",
              " 'place': 165,\n",
              " 'sanders': 166,\n",
              " 'reporters': 167,\n",
              " 'issue': 168,\n",
              " 'sunday': 169,\n",
              " 'won': 170,\n",
              " 'killed': 171,\n",
              " 'major': 172,\n",
              " 'home': 173,\n",
              " 'spokesman': 174,\n",
              " 'win': 175,\n",
              " 'cruz': 176,\n",
              " 'immigration': 177,\n",
              " 'john': 178,\n",
              " 'program': 179,\n",
              " 'press': 180,\n",
              " 'barack': 181,\n",
              " 'economic': 182,\n",
              " 'talks': 183,\n",
              " 'things': 184,\n",
              " 'trying': 185,\n",
              " 'act': 186,\n",
              " 'came': 187,\n",
              " 'control': 188,\n",
              " 'children': 189,\n",
              " 'got': 190,\n",
              " 'believe': 191,\n",
              " 'recent': 192,\n",
              " 'seen': 193,\n",
              " 'attacks': 194,\n",
              " 'defense': 195,\n",
              " 'social': 196,\n",
              " 'lawmakers': 197,\n",
              " 'forces': 198,\n",
              " 'governor': 199,\n",
              " 'great': 200,\n",
              " 'earlier': 201,\n",
              " 'post': 202,\n",
              " 'executive': 203,\n",
              " 'senior': 204,\n",
              " 'sanctions': 205,\n",
              " 'comment': 206,\n",
              " 'number': 207,\n",
              " 'watch': 208,\n",
              " 'later': 209,\n",
              " 'making': 210,\n",
              " 'working': 211,\n",
              " 'march': 212,\n",
              " 'added': 213,\n",
              " 'european': 214,\n",
              " 'set': 215,\n",
              " 'prime': 216,\n",
              " 'actually': 217,\n",
              " 'january': 218,\n",
              " 'legal': 219,\n",
              " 'nominee': 220,\n",
              " 'look': 221,\n",
              " 'little': 222,\n",
              " 'opposition': 223,\n",
              " 'point': 224,\n",
              " 'big': 225,\n",
              " 'muslim': 226,\n",
              " 'story': 227,\n",
              " 'member': 228,\n",
              " 'matter': 229,\n",
              " 'stop': 230,\n",
              " 'democrat': 231,\n",
              " 'away': 232,\n",
              " 'went': 233,\n",
              " 'past': 234,\n",
              " 'companies': 235,\n",
              " 'thing': 236,\n",
              " 'expected': 237,\n",
              " 'nations': 238,\n",
              " 'today': 239,\n",
              " 'violence': 240,\n",
              " 'real': 241,\n",
              " 'let': 242,\n",
              " 'issues': 243,\n",
              " 'nation': 244,\n",
              " 'wants': 245,\n",
              " 'images': 246,\n",
              " 'school': 247,\n",
              " 'head': 248,\n",
              " 'wall': 249,\n",
              " 'free': 250,\n",
              " 'gop': 251,\n",
              " 'supreme': 252,\n",
              " 'legislation': 253,\n",
              " 'held': 254,\n",
              " 'taking': 255,\n",
              " 'possible': 256,\n",
              " 'force': 257,\n",
              " 'budget': 258,\n",
              " 'human': 259,\n",
              " 'union': 260,\n",
              " 'ban': 261,\n",
              " 'july': 262,\n",
              " 'care': 263,\n",
              " 'local': 264,\n",
              " 'pay': 265,\n",
              " 'known': 266,\n",
              " 'job': 267,\n",
              " 'team': 268,\n",
              " 'financial': 269,\n",
              " 'action': 270,\n",
              " 'following': 271,\n",
              " 'cnn': 272,\n",
              " 'person': 273,\n",
              " 'plans': 274,\n",
              " 'continue': 275,\n",
              " 'better': 276,\n",
              " 'debate': 277,\n",
              " 'judge': 278,\n",
              " 'realdonaldtrump': 279,\n",
              " 'attorney': 280,\n",
              " 'woman': 281,\n",
              " 'gun': 282,\n",
              " 'released': 283,\n",
              " 'company': 284,\n",
              " 'process': 285,\n",
              " 'close': 286,\n",
              " 'face': 287,\n",
              " 'response': 288,\n",
              " 'majority': 289,\n",
              " 'given': 290,\n",
              " 'high': 291,\n",
              " 'men': 292,\n",
              " 'june': 293,\n",
              " 'putin': 294,\n",
              " 'taken': 295,\n",
              " 'saturday': 296,\n",
              " 'night': 297,\n",
              " 'fight': 298,\n",
              " 'despite': 299,\n",
              " 'air': 300,\n",
              " 'open': 301,\n",
              " 'region': 302,\n",
              " 'important': 303,\n",
              " 'lot': 304,\n",
              " 'crisis': 305,\n",
              " 'mexico': 306,\n",
              " 'iraq': 307,\n",
              " 'community': 308,\n",
              " 'conference': 309,\n",
              " 'race': 310,\n",
              " 'illegal': 311,\n",
              " 'agreement': 312,\n",
              " 'course': 313,\n",
              " 'having': 314,\n",
              " 'run': 315,\n",
              " 'comments': 316,\n",
              " 'source': 317,\n",
              " 'wrote': 318,\n",
              " 'efforts': 319,\n",
              " 'second': 320,\n",
              " 'syrian': 321,\n",
              " 'reports': 322,\n",
              " 'staff': 323,\n",
              " 'history': 324,\n",
              " 'saudi': 325,\n",
              " 'accused': 326,\n",
              " 'question': 327,\n",
              " 'special': 328,\n",
              " 'evidence': 329,\n",
              " 'ryan': 330,\n",
              " 'britain': 331,\n",
              " 'lead': 332,\n",
              " 'early': 333,\n",
              " 'private': 334,\n",
              " 'coalition': 335,\n",
              " 'university': 336,\n",
              " 'life': 337,\n",
              " 'november': 338,\n",
              " 'refugees': 339,\n",
              " 'future': 340,\n",
              " 'letter': 341,\n",
              " 'able': 342,\n",
              " 'ago': 343,\n",
              " 'healthcare': 344,\n",
              " 'role': 345,\n",
              " 'weeks': 346,\n",
              " 'instead': 347,\n",
              " 'jobs': 348,\n",
              " 'visit': 349,\n",
              " 'best': 350,\n",
              " 'council': 351,\n",
              " 'rules': 352,\n",
              " 'death': 353,\n",
              " 'economy': 354,\n",
              " 'yearold': 355,\n",
              " 'civil': 356,\n",
              " 'current': 357,\n",
              " 'comes': 358,\n",
              " 'congressional': 359,\n",
              " 'sources': 360,\n",
              " 'email': 361,\n",
              " 'obamacare': 362,\n",
              " 'candidates': 363,\n",
              " 'calling': 364,\n",
              " 'ties': 365,\n",
              " 'chairman': 366,\n",
              " 'texas': 367,\n",
              " 'sure': 368,\n",
              " 'capital': 369,\n",
              " 'elections': 370,\n",
              " 'rule': 371,\n",
              " 'army': 372,\n",
              " 'israel': 373,\n",
              " 'votes': 374,\n",
              " 'poll': 375,\n",
              " 'hard': 376,\n",
              " 'getting': 377,\n",
              " 'comey': 378,\n",
              " 'ruling': 379,\n",
              " 'nearly': 380,\n",
              " 'calls': 381,\n",
              " 'effort': 382,\n",
              " 'turkey': 383,\n",
              " 'parliament': 384,\n",
              " 'coming': 385,\n",
              " 'thousands': 386,\n",
              " 'hold': 387,\n",
              " 'service': 388,\n",
              " 'lives': 389,\n",
              " 'representatives': 390,\n",
              " 'workers': 391,\n",
              " 'running': 392,\n",
              " 'allow': 393,\n",
              " 'florida': 394,\n",
              " 'announced': 395,\n",
              " 'center': 396,\n",
              " 'weapons': 397,\n",
              " 'position': 398,\n",
              " 'climate': 399,\n",
              " 'reform': 400,\n",
              " 'muslims': 401,\n",
              " 'showed': 402,\n",
              " 'paul': 403,\n",
              " 'line': 404,\n",
              " 'racist': 405,\n",
              " 'ministry': 406,\n",
              " 'sent': 407,\n",
              " 'global': 408,\n",
              " 'needs': 409,\n",
              " 'late': 410,\n",
              " 'leave': 411,\n",
              " 'authorities': 412,\n",
              " 'meet': 413,\n",
              " 'facebook': 414,\n",
              " 'led': 415,\n",
              " 'talk': 416,\n",
              " 'citizens': 417,\n",
              " 'wanted': 418,\n",
              " 'peace': 419,\n",
              " 'ahead': 420,\n",
              " 'voting': 421,\n",
              " 'relations': 422,\n",
              " 'december': 423,\n",
              " 'conservatives': 424,\n",
              " 'live': 425,\n",
              " 'east': 426,\n",
              " 'cut': 427,\n",
              " 'bad': 428,\n",
              " 'bush': 429,\n",
              " 'oil': 430,\n",
              " 'outside': 431,\n",
              " 'immediately': 432,\n",
              " 'germany': 433,\n",
              " 'latest': 434,\n",
              " 'message': 435,\n",
              " 'threat': 436,\n",
              " 'spending': 437,\n",
              " 'failed': 438,\n",
              " 'allies': 439,\n",
              " 'april': 440,\n",
              " 'strong': 441,\n",
              " 'middle': 442,\n",
              " 'makes': 443,\n",
              " 'young': 444,\n",
              " 'start': 445,\n",
              " 'rally': 446,\n",
              " 'means': 447,\n",
              " 'event': 448,\n",
              " 'missile': 449,\n",
              " 'problem': 450,\n",
              " 'began': 451,\n",
              " 'august': 452,\n",
              " 'central': 453,\n",
              " 'chinese': 454,\n",
              " 'february': 455,\n",
              " 'hope': 456,\n",
              " 'gave': 457,\n",
              " 'myanmar': 458,\n",
              " 'questions': 459,\n",
              " 'speaking': 460,\n",
              " 'funding': 461,\n",
              " 'services': 462,\n",
              " 'october': 463,\n",
              " 'parties': 464,\n",
              " 'lost': 465,\n",
              " 'politics': 466,\n",
              " 'students': 467,\n",
              " 'policies': 468,\n",
              " 'immigrants': 469,\n",
              " 'access': 470,\n",
              " 'isn': 471,\n",
              " 'street': 472,\n",
              " 'agencies': 473,\n",
              " 'september': 474,\n",
              " 'tell': 475,\n",
              " 'laws': 476,\n",
              " 'words': 477,\n",
              " 'emails': 478,\n",
              " 'claims': 479,\n",
              " 'try': 480,\n",
              " 'planned': 481,\n",
              " 'energy': 482,\n",
              " 'concerns': 483,\n",
              " 'organization': 484,\n",
              " 'reason': 485,\n",
              " 'tried': 486,\n",
              " 'millions': 487,\n",
              " 'release': 488,\n",
              " 'denied': 489,\n",
              " 'nomination': 490,\n",
              " 'obamas': 491,\n",
              " 'stand': 492,\n",
              " 'decided': 493,\n",
              " 'key': 494,\n",
              " 'korean': 495,\n",
              " 'bank': 496,\n",
              " 'europe': 497,\n",
              " 'based': 498,\n",
              " 'list': 499,\n",
              " 'elected': 500,\n",
              " 'thought': 501,\n",
              " 'charges': 502,\n",
              " 'daily': 503,\n",
              " 'provide': 504,\n",
              " 'met': 505,\n",
              " 'different': 506,\n",
              " 'needed': 507,\n",
              " 'fake': 508,\n",
              " 'situation': 509,\n",
              " 'criminal': 510,\n",
              " 'allowed': 511,\n",
              " 'idea': 512,\n",
              " 'protect': 513,\n",
              " 'bring': 514,\n",
              " 'agreed': 515,\n",
              " 'presidency': 516,\n",
              " 'vice': 517,\n",
              " 'allegations': 518,\n",
              " 'near': 519,\n",
              " 'representative': 520,\n",
              " 'officers': 521,\n",
              " 'received': 522,\n",
              " 'morning': 523,\n",
              " 'adviser': 524,\n",
              " 'travel': 525,\n",
              " 'george': 526,\n",
              " 'recently': 527,\n",
              " 'polls': 528,\n",
              " 'talking': 529,\n",
              " 'insurance': 530,\n",
              " 'industry': 531,\n",
              " 'tillerson': 532,\n",
              " 'small': 533,\n",
              " 'return': 534,\n",
              " 'nov': 535,\n",
              " 'adding': 536,\n",
              " 'tweet': 537,\n",
              " 'shows': 538,\n",
              " 'kind': 539,\n",
              " 'request': 540,\n",
              " 'sexual': 541,\n",
              " 'district': 542,\n",
              " 'market': 543,\n",
              " 'voted': 544,\n",
              " 'liberal': 545,\n",
              " 'especially': 546,\n",
              " 'potential': 547,\n",
              " 'commission': 548,\n",
              " 'british': 549,\n",
              " 'include': 550,\n",
              " 'hearing': 551,\n",
              " 'california': 552,\n",
              " 'read': 553,\n",
              " 'host': 554,\n",
              " 'area': 555,\n",
              " 'looking': 556,\n",
              " 'pressure': 557,\n",
              " 'freedom': 558,\n",
              " 'fighting': 559,\n",
              " 'involved': 560,\n",
              " 'water': 561,\n",
              " 'large': 562,\n",
              " 'hours': 563,\n",
              " 'cases': 564,\n",
              " 'hate': 565,\n",
              " 'ted': 566,\n",
              " 'step': 567,\n",
              " 'term': 568,\n",
              " 'officer': 569,\n",
              " 'arrested': 570,\n",
              " 'enforcement': 571,\n",
              " 'west': 572,\n",
              " 'happened': 573,\n",
              " 'independence': 574,\n",
              " 'declined': 575,\n",
              " 'dont': 576,\n",
              " 'fired': 577,\n",
              " 'entire': 578,\n",
              " 'actions': 579,\n",
              " 'movement': 580,\n",
              " 'forward': 581,\n",
              " 'main': 582,\n",
              " 'data': 583,\n",
              " 'moscow': 584,\n",
              " 'passed': 585,\n",
              " 'biggest': 586,\n",
              " 'confirmed': 587,\n",
              " 'decades': 588,\n",
              " 'old': 589,\n",
              " 'pence': 590,\n",
              " 'bernie': 591,\n",
              " 'address': 592,\n",
              " 'details': 593,\n",
              " 'shot': 594,\n",
              " 'western': 595,\n",
              " 'taxes': 596,\n",
              " 'aid': 597,\n",
              " 'personal': 598,\n",
              " 'hit': 599,\n",
              " 'leading': 600,\n",
              " 'probably': 601,\n",
              " 'james': 602,\n",
              " 'lawyer': 603,\n",
              " 'building': 604,\n",
              " 'victory': 605,\n",
              " 'review': 606,\n",
              " 'spoke': 607,\n",
              " 'primary': 608,\n",
              " 'wrong': 609,\n",
              " 'claim': 610,\n",
              " 'soon': 611,\n",
              " 'protesters': 612,\n",
              " 'militants': 613,\n",
              " 'merkel': 614,\n",
              " 'leadership': 615,\n",
              " 'board': 616,\n",
              " 'worked': 617,\n",
              " 'final': 618,\n",
              " 'wife': 619,\n",
              " 'shooting': 620,\n",
              " 'deputy': 621,\n",
              " 'terrorist': 622,\n",
              " 'remarks': 623,\n",
              " 'room': 624,\n",
              " 'sessions': 625,\n",
              " 'mike': 626,\n",
              " 'continued': 627,\n",
              " 'arabia': 628,\n",
              " 'german': 629,\n",
              " 'flynn': 630,\n",
              " 'true': 631,\n",
              " 'signed': 632,\n",
              " 'documents': 633,\n",
              " 'appeared': 634,\n",
              " 'crime': 635,\n",
              " 'families': 636,\n",
              " 'brought': 637,\n",
              " 'sign': 638,\n",
              " 'brexit': 639,\n",
              " 'clearly': 640,\n",
              " 'relationship': 641,\n",
              " 'regional': 642,\n",
              " 'love': 643,\n",
              " 'pass': 644,\n",
              " 'debt': 645,\n",
              " 'points': 646,\n",
              " 'paid': 647,\n",
              " 'proposed': 648,\n",
              " 'issued': 649,\n",
              " 'feel': 650,\n",
              " 'raised': 651,\n",
              " 'mean': 652,\n",
              " 'seeking': 653,\n",
              " 'michael': 654,\n",
              " 'son': 655,\n",
              " 'county': 656,\n",
              " 'religious': 657,\n",
              " 'terrorism': 658,\n",
              " 'push': 659,\n",
              " 'record': 660,\n",
              " 'claimed': 661,\n",
              " 'alleged': 662,\n",
              " 'rubio': 663,\n",
              " 'speaker': 664,\n",
              " 'turn': 665,\n",
              " 'rohingya': 666,\n",
              " 'result': 667,\n",
              " 'father': 668,\n",
              " 'changes': 669,\n",
              " 'spent': 670,\n",
              " 'convention': 671,\n",
              " 'respond': 672,\n",
              " 'half': 673,\n",
              " 'clintons': 674,\n",
              " 'influence': 675,\n",
              " 'included': 676,\n",
              " 'popular': 677,\n",
              " 'david': 678,\n",
              " 'level': 679,\n",
              " 'conflict': 680,\n",
              " 'senators': 681,\n",
              " 'increase': 682,\n",
              " 'short': 683,\n",
              " 'criticized': 684,\n",
              " 'areas': 685,\n",
              " 'town': 686,\n",
              " 'remain': 687,\n",
              " 'protests': 688,\n",
              " 'previously': 689,\n",
              " 'turned': 690,\n",
              " 'repeatedly': 691,\n",
              " 'forced': 692,\n",
              " 'fund': 693,\n",
              " 'northern': 694,\n",
              " 'food': 695,\n",
              " 'ambassador': 696,\n",
              " 'armed': 697,\n",
              " 'dollars': 698,\n",
              " 'goes': 699,\n",
              " 'carolina': 700,\n",
              " 'started': 701,\n",
              " 'criticism': 702,\n",
              " 'constitution': 703,\n",
              " 'simply': 704,\n",
              " 'japan': 705,\n",
              " 'cost': 706,\n",
              " 'mark': 707,\n",
              " 'giving': 708,\n",
              " 'pretty': 709,\n",
              " 'view': 710,\n",
              " 'helped': 711,\n",
              " 'attempt': 712,\n",
              " 'protest': 713,\n",
              " 'largest': 714,\n",
              " 'posted': 715,\n",
              " 'wasn': 716,\n",
              " 'foundation': 717,\n",
              " 'discuss': 718,\n",
              " 'build': 719,\n",
              " 'mccain': 720,\n",
              " 'firm': 721,\n",
              " 'agenda': 722,\n",
              " 'gets': 723,\n",
              " 'spokeswoman': 724,\n",
              " 'guy': 725,\n",
              " 'total': 726,\n",
              " 'child': 727,\n",
              " 'account': 728,\n",
              " 'network': 729,\n",
              " 'phone': 730,\n",
              " 'hundreds': 731,\n",
              " 'troops': 732,\n",
              " 'saw': 733,\n",
              " 'programs': 734,\n",
              " 'described': 735,\n",
              " 'independent': 736,\n",
              " 'funds': 737,\n",
              " 'college': 738,\n",
              " 'seven': 739,\n",
              " 'website': 740,\n",
              " 'france': 741,\n",
              " 'voter': 742,\n",
              " 'longer': 743,\n",
              " 'proposal': 744,\n",
              " 'kurdish': 745,\n",
              " 'currently': 746,\n",
              " 'truth': 747,\n",
              " 'speak': 748,\n",
              " 'rate': 749,\n",
              " 'mayor': 750,\n",
              " 'stay': 751,\n",
              " 'hand': 752,\n",
              " 'fear': 753,\n",
              " 'warned': 754,\n",
              " 'education': 755,\n",
              " 'reality': 756,\n",
              " 'ask': 757,\n",
              " 'transition': 758,\n",
              " 'similar': 759,\n",
              " 'measures': 760,\n",
              " 'lower': 761,\n",
              " 'created': 762,\n",
              " 'presidentelect': 763,\n",
              " 'absolutely': 764,\n",
              " 'iraqi': 765,\n",
              " 'employees': 766,\n",
              " 'heard': 767,\n",
              " 'crowd': 768,\n",
              " 'single': 769,\n",
              " 'urged': 770,\n",
              " 'base': 771,\n",
              " 'risk': 772,\n",
              " 'experts': 773,\n",
              " 'focus': 774,\n",
              " 'secret': 775,\n",
              " 'presidents': 776,\n",
              " 'measure': 777,\n",
              " 'businesses': 778,\n",
              " 'television': 779,\n",
              " 'seek': 780,\n",
              " 'opinion': 781,\n",
              " 'robert': 782,\n",
              " 'panel': 783,\n",
              " 'friends': 784,\n",
              " 'concerned': 785,\n",
              " 'repeal': 786,\n",
              " 'dangerous': 787,\n",
              " 'king': 788,\n",
              " 'wire': 789,\n",
              " 'example': 790,\n",
              " 'christian': 791,\n",
              " 'corruption': 792,\n",
              " 'powerful': 793,\n",
              " 'hands': 794,\n",
              " 'concern': 795,\n",
              " 'form': 796,\n",
              " 'victims': 797,\n",
              " 'medical': 798,\n",
              " 'nato': 799,\n",
              " 'incident': 800,\n",
              " 'happen': 801,\n",
              " 'french': 802,\n",
              " 'takes': 803,\n",
              " 'article': 804,\n",
              " 'johnson': 805,\n",
              " 'tweeted': 806,\n",
              " 'interests': 807,\n",
              " 'prevent': 808,\n",
              " 'page': 809,\n",
              " 'problems': 810,\n",
              " 'telling': 811,\n",
              " 'operations': 812,\n",
              " 'star': 813,\n",
              " 'mcconnell': 814,\n",
              " 'southern': 815,\n",
              " 'consider': 816,\n",
              " 'completely': 817,\n",
              " 'previous': 818,\n",
              " 'safety': 819,\n",
              " 'tweets': 820,\n",
              " 'trip': 821,\n",
              " 'development': 822,\n",
              " 'fellow': 823,\n",
              " 'results': 824,\n",
              " 'ready': 825,\n",
              " 'island': 826,\n",
              " 'quickly': 827,\n",
              " 'isis': 828,\n",
              " 'cause': 829,\n",
              " 'probe': 830,\n",
              " 'referendum': 831,\n",
              " 'apparently': 832,\n",
              " 'residents': 833,\n",
              " 'asking': 834,\n",
              " 'charged': 835,\n",
              " 'exactly': 836,\n",
              " 'expressed': 837,\n",
              " 'cabinet': 838,\n",
              " 'safe': 839,\n",
              " 'died': 840,\n",
              " 'respect': 841,\n",
              " 'century': 842,\n",
              " 'served': 843,\n",
              " 'violent': 844,\n",
              " 'published': 845,\n",
              " 'politicians': 846,\n",
              " 'cuts': 847,\n",
              " 'fraud': 848,\n",
              " 'diplomatic': 849,\n",
              " 'drug': 850,\n",
              " 'prison': 851,\n",
              " 'virginia': 852,\n",
              " 'refugee': 853,\n",
              " 'understand': 854,\n",
              " 'committed': 855,\n",
              " 'choice': 856,\n",
              " 'living': 857,\n",
              " 'cia': 858,\n",
              " 'mass': 859,\n",
              " 'leaving': 860,\n",
              " 'ensure': 861,\n",
              " 'research': 862,\n",
              " 'backed': 863,\n",
              " 'dead': 864,\n",
              " 'create': 865,\n",
              " 'threats': 866,\n",
              " 'numbers': 867,\n",
              " 'poor': 868,\n",
              " 'agree': 869,\n",
              " 'governments': 870,\n",
              " 'coverage': 871,\n",
              " 'san': 872,\n",
              " 'joe': 873,\n",
              " 'knows': 874,\n",
              " 'terms': 875,\n",
              " 'answer': 876,\n",
              " 'sides': 877,\n",
              " 'internet': 878,\n",
              " 'considered': 879,\n",
              " 'land': 880,\n",
              " 'chance': 881,\n",
              " 'project': 882,\n",
              " 'share': 883,\n",
              " 'moment': 884,\n",
              " 'inside': 885,\n",
              " 'ground': 886,\n",
              " 'investment': 887,\n",
              " 'flag': 888,\n",
              " 'progress': 889,\n",
              " 'puerto': 890,\n",
              " 'authority': 891,\n",
              " 'negotiations': 892,\n",
              " 'individuals': 893,\n",
              " 'afghanistan': 894,\n",
              " 'named': 895,\n",
              " 'certain': 896,\n",
              " 'huge': 897,\n",
              " 'certainly': 898,\n",
              " 'jerusalem': 899,\n",
              " 'spicer': 900,\n",
              " 'favor': 901,\n",
              " 'filed': 902,\n",
              " 'charge': 903,\n",
              " 'labor': 904,\n",
              " 'responsible': 905,\n",
              " 'reporter': 906,\n",
              " 'democracy': 907,\n",
              " 'test': 908,\n",
              " 'growing': 909,\n",
              " 'sought': 910,\n",
              " 'refused': 911,\n",
              " 'avoid': 912,\n",
              " 'kelly': 913,\n",
              " 'yes': 914,\n",
              " 'critics': 915,\n",
              " 'target': 916,\n",
              " 'online': 917,\n",
              " 'paris': 918,\n",
              " 'featured': 919,\n",
              " 'protection': 920,\n",
              " 'abortion': 921,\n",
              " 'turkish': 922,\n",
              " 'courts': 923,\n",
              " 'impact': 924,\n",
              " 'killing': 925,\n",
              " 'screen': 926,\n",
              " 'appears': 927,\n",
              " 'amendment': 928,\n",
              " 'mother': 929,\n",
              " 'hear': 930,\n",
              " 'critical': 931,\n",
              " 'holding': 932,\n",
              " 'finance': 933,\n",
              " 'photo': 934,\n",
              " 'offer': 935,\n",
              " 'joint': 936,\n",
              " 'play': 937,\n",
              " 'rhetoric': 938,\n",
              " 'difficult': 939,\n",
              " 'series': 940,\n",
              " 'responded': 941,\n",
              " 'low': 942,\n",
              " 'beijing': 943,\n",
              " 'approved': 944,\n",
              " 'cities': 945,\n",
              " 'affairs': 946,\n",
              " 'send': 947,\n",
              " 'moore': 948,\n",
              " 'london': 949,\n",
              " 'expect': 950,\n",
              " 'reached': 951,\n",
              " 'terrorists': 952,\n",
              " 'macron': 953,\n",
              " 'raise': 954,\n",
              " 'newspaper': 955,\n",
              " 'capture': 956,\n",
              " 'threatened': 957,\n",
              " 'events': 958,\n",
              " 'attention': 959,\n",
              " 'regulations': 960,\n",
              " 'crimes': 961,\n",
              " 'gas': 962,\n",
              " 'rival': 963,\n",
              " 'assault': 964,\n",
              " 'sean': 965,\n",
              " 'growth': 966,\n",
              " 'strategy': 967,\n",
              " 'rest': 968,\n",
              " 'god': 969,\n",
              " 'radio': 970,\n",
              " 'defend': 971,\n",
              " 'status': 972,\n",
              " 'population': 973,\n",
              " 'ordered': 974,\n",
              " 'challenge': 975,\n",
              " 'church': 976,\n",
              " 'standing': 977,\n",
              " 'body': 978,\n",
              " 'corporate': 979,\n",
              " 'believed': 980,\n",
              " 'worst': 981,\n",
              " 'sept': 982,\n",
              " 'income': 983,\n",
              " 'considering': 984,\n",
              " 'worse': 985,\n",
              " 'parents': 986,\n",
              " 'offered': 987,\n",
              " 'husband': 988,\n",
              " 'lose': 989,\n",
              " 'lawyers': 990,\n",
              " 'massive': 991,\n",
              " 'suggested': 992,\n",
              " 'schools': 993,\n",
              " 'fiscal': 994,\n",
              " 'ways': 995,\n",
              " 'ability': 996,\n",
              " 'supporter': 997,\n",
              " 'period': 998,\n",
              " 'parts': 999,\n",
              " 'summit': 1000,\n",
              " ...}"
            ]
          },
          "metadata": {},
          "execution_count": 178
        }
      ]
    },
    {
      "cell_type": "markdown",
      "metadata": {
        "id": "z8ZF1WrldKtW"
      },
      "source": [
        "**Hist of words length**"
      ]
    },
    {
      "cell_type": "code",
      "metadata": {
        "colab": {
          "base_uri": "https://localhost:8080/",
          "height": 284
        },
        "id": "sxPVUvJjc6AJ",
        "outputId": "601e1303-126a-4283-904a-5cd877324a6a"
      },
      "source": [
        "sns.histplot([len(x) for x in X ], bins = 700)"
      ],
      "execution_count": 179,
      "outputs": [
        {
          "output_type": "execute_result",
          "data": {
            "text/plain": [
              "<matplotlib.axes._subplots.AxesSubplot at 0x7f1205f72b50>"
            ]
          },
          "metadata": {},
          "execution_count": 179
        },
        {
          "output_type": "display_data",
          "data": {
            "image/png": "[encoded data removed]",
            "text/plain": [
              "<Figure size 432x288 with 1 Axes>"
            ]
          },
          "metadata": {
            "needs_background": "light"
          }
        }
      ]
    },
    {
      "cell_type": "code",
      "metadata": {
        "colab": {
          "base_uri": "https://localhost:8080/"
        },
        "id": "L2G3oWkJc57j",
        "outputId": "13960594-861a-4646-d113-a0f6a5f11faa"
      },
      "source": [
        "noc = np.array([len(x) for x in X ])\n",
        "len(noc[noc > 1000])"
      ],
      "execution_count": 180,
      "outputs": [
        {
          "output_type": "execute_result",
          "data": {
            "text/plain": [
              "131"
            ]
          },
          "metadata": {},
          "execution_count": 180
        }
      ]
    },
    {
      "cell_type": "code",
      "metadata": {
        "id": "PkqcikbZc55q"
      },
      "source": [
        "max_len = 1000\n",
        "X = pad_sequences(X, maxlen=max_len)"
      ],
      "execution_count": 181,
      "outputs": []
    },
    {
      "cell_type": "code",
      "metadata": {
        "colab": {
          "base_uri": "https://localhost:8080/"
        },
        "id": "vsUkRqocjJZu",
        "outputId": "d8c17b08-f473-4ac9-ea24-136025790b2a"
      },
      "source": [
        "X[0]"
      ],
      "execution_count": 194,
      "outputs": [
        {
          "output_type": "execute_result",
          "data": {
            "text/plain": [
              "array([    0,     0,     0,     0,     0,     0,     0,     0,     0,\n",
              "           0,     0,     0,     0,     0,     0,     0,     0,     0,\n",
              "           0,     0,     0,     0,     0,     0,     0,     0,     0,\n",
              "           0,     0,     0,     0,     0,     0,     0,     0,     0,\n",
              "           0,     0,     0,     0,     0,     0,     0,     0,     0,\n",
              "           0,     0,     0,     0,     0,     0,     0,     0,     0,\n",
              "           0,     0,     0,     0,     0,     0,     0,     0,     0,\n",
              "           0,     0,     0,     0,     0,     0,     0,     0,     0,\n",
              "           0,     0,     0,     0,     0,     0,     0,     0,     0,\n",
              "           0,     0,     0,     0,     0,     0,     0,     0,     0,\n",
              "           0,     0,     0,     0,     0,     0,     0,     0,     0,\n",
              "           0,     0,     0,     0,     0,     0,     0,     0,     0,\n",
              "           0,     0,     0,     0,     0,     0,     0,     0,     0,\n",
              "           0,     0,     0,     0,     0,     0,     0,     0,     0,\n",
              "           0,     0,     0,     0,     0,     0,     0,     0,     0,\n",
              "           0,     0,     0,     0,     0,     0,     0,     0,     0,\n",
              "           0,     0,     0,     0,     0,     0,     0,     0,     0,\n",
              "           0,     0,     0,     0,     0,     0,     0,     0,     0,\n",
              "           0,     0,     0,     0,     0,     0,     0,     0,     0,\n",
              "           0,     0,     0,     0,     0,     0,     0,     0,     0,\n",
              "           0,     0,     0,     0,     0,     0,     0,     0,     0,\n",
              "           0,     0,     0,     0,     0,     0,     0,     0,     0,\n",
              "           0,     0,     0,     0,     0,     0,     0,     0,     0,\n",
              "           0,     0,     0,     0,     0,     0,     0,     0,     0,\n",
              "           0,     0,     0,     0,     0,     0,     0,     0,     0,\n",
              "           0,     0,     0,     0,     0,     0,     0,     0,     0,\n",
              "           0,     0,     0,     0,     0,     0,     0,     0,     0,\n",
              "           0,     0,     0,     0,     0,     0,     0,     0,     0,\n",
              "           0,     0,     0,     0,     0,     0,     0,     0,     0,\n",
              "           0,     0,     0,     0,     0,     0,     0,     0,     0,\n",
              "           0,     0,     0,     0,     0,     0,     0,     0,     0,\n",
              "           0,     0,     0,     0,     0,     0,     0,     0,     0,\n",
              "           0,     0,     0,     0,     0,     0,     0,     0,     0,\n",
              "           0,     0,     0,     0,     0,     0,     0,     0,     0,\n",
              "           0,     0,     0,     0,     0,     0,     0,     0,     0,\n",
              "           0,     0,     0,     0,     0,     0,     0,     0,     0,\n",
              "           0,     0,     0,     0,     0,     0,     0,     0,     0,\n",
              "           0,     0,     0,     0,     0,     0,     0,     0,     0,\n",
              "           0,     0,     0,     0,     0,     0,     0,     0,     0,\n",
              "           0,     0,     0,     0,     0,     0,     0,     0,     0,\n",
              "           0,     0,     0,     0,     0,     0,     0,     0,     0,\n",
              "           0,     0,     0,     0,     0,     0,     0,     0,     0,\n",
              "           0,     0,     0,     0,     0,     0,     0,     0,     0,\n",
              "           0,     0,     0,     0,     0,     0,     0,     0,     0,\n",
              "           0,     0,     0,     0,     0,     0,     0,     0,     0,\n",
              "           0,     0,     0,     0,     0,     0,     0,     0,     0,\n",
              "           0,     0,     0,     0,     0,     0,     0,     0,     0,\n",
              "           0,     0,     0,     0,     0,     0,     0,     0,     0,\n",
              "           0,     0,     0,     0,     0,     0,     0,     0,     0,\n",
              "           0,     0,     0,     0,     0,     0,     0,     0,     0,\n",
              "           0,     0,     0,     0,     0,     0,     0,     0,     0,\n",
              "           0,     0,     0,     0,     0,     0,     0,     0,     0,\n",
              "           0,     0,     0,     0,     0,     0,     0,     0,     0,\n",
              "           0,     0,     0,     0,     0,     0,     0,     0,     0,\n",
              "           0,     0,     0,     0,     0,     0,     0,     0,     0,\n",
              "           0,     0,     0,     0,     0,     0,     0,     0,     0,\n",
              "           0,     0,     0,     0,     0,     0,     0,     0,     0,\n",
              "           0,     0,     0,     0,     0,     0,     0,     0,     0,\n",
              "           0,     0,     0,     0,     0,     0,     0,     0,     0,\n",
              "           0,     0,     0,     0,     0,     0,     0,     0,     0,\n",
              "           0,     0,     0,     0,     0,     0,     0,     0,     0,\n",
              "           0,     0,     0,     0,     0,     0,     0,     0,     0,\n",
              "           0,     0,     0,     0,     0,     0,     0,     0,     0,\n",
              "           0,     0,     0,     0,     0,     0,     0,     0,     0,\n",
              "           0,     0,     0,     0,     0,     0,     0,     0,     0,\n",
              "           0,     0,     0,     0,     0,   258,   298,  9359,    28,\n",
              "        7381,   994,  4815,   248,   148,    11,  5511,    75,   544,\n",
              "         118,   897,  2541,    31,   645,   265,    60,   847,    63,\n",
              "         994,   148,   169,   770,   258,  6936,  1462,  2941,  6910,\n",
              "          61,    28,   520,   707,  6704,   460,  1840,   287,   244,\n",
              "        1365,   376,   404,    62,   437,   197, 15176,  1045,   218,\n",
              "         534,  7558,    78,   197,  1149,   185,   644,    62,   258,\n",
              "         298,   150,  1742,   243,   177,    87,   338,   359,    19,\n",
              "        1445,  1182,    28,   780,   188,    75,     3,     8,     2,\n",
              "          28,    71,   225,   258,   682,    57,   437,    79,    71,\n",
              "       10844,  3033, 15177, 11603,   437,   734,    45,   755,  3718,\n",
              "         862,  1134,    67,   152,  1050,   920,     2,    48,  1090,\n",
              "          38,   682, 15177, 11603,   437,    32,  6704,   366,   533,\n",
              "        3068,     7,   558,  1735,     1,   179,    79,    65,  1219,\n",
              "         101,    10,   265,   954,    32,   994,   148,   576, 10656,\n",
              "        1639,   315,  4382,   133,     1,  6704,    28,   544,   410,\n",
              "         423,  1395, 30756,    60,  1726,   237, 10845,    62,   258,\n",
              "        1774,  1701,  1880,    25,  1880,    31,   645,  2327,   930,\n",
              "         707,   416,   994,  1165,    44,   520,  2695, 12054,     1,\n",
              "        1840, 12054,     1,    11,    60,  1303,    14,     9,  8814,\n",
              "        1880,   647,   340,  4383,   933,    60,   847,  2083,  1221,\n",
              "       12788,   905,  1279,  2894,   193,   585,   324,     7,   390,\n",
              "          54,    38,  1254,    25,   122, 12054,     1,    28,  4129,\n",
              "          60,  2008,   586,    60,  1726,    25,  1364,   354,   267,\n",
              "         966,     7,   664,   403,   330,  1023,    60,   527,   233,\n",
              "        6704,   210,   160,   970,   149,  2599,  8350,   400,    20,\n",
              "         381,    11,  2000,    11, 29281,  8350,   734,   652,   695,\n",
              "        5847,  1413,  1534,  3490,  1507,   152,   530,  3814,   868,\n",
              "        3146,   734,   762,    76,  5526, 12550,    79,  2231,  6631,\n",
              "         333,   423,   623,    65,   402,    28,   480,   265,    60,\n",
              "        1726,   653,   437,   847,   196,   734,  2970,     7,    28,\n",
              "        1152,    39,   374,    79,   507,  2065,   258,   808,    10,\n",
              "        3273,    79,   113,  4580,    39,    28,  5423,   188,   971,\n",
              "       11603, 15177,   734,   196,   437,  6443,   168,  3687,     4,\n",
              "         637,  1559,    24,   189,     2,   474,   212, 17914,  1513,\n",
              "        5809,   270,  4657,  3769,  2585,   179,  5593,   444,   469,\n",
              "        2518,  2336,    88,  4130,     3,     1,   192,   114,  1950,\n",
              "         245,   461,   648,  1057,   161,   249,   177,    34,   669,\n",
              "        1046,  4738,    98,  3687,   520,  4937, 25851,    15,  1840,\n",
              "         901,  6501,   168,    87,  6080,   249,   461,   101,  2585,\n",
              "        1509,     1,    78,     2,  1191,   413,   359,   127,   718,\n",
              "         243,  1169,  1073,   967,   625,     2,    11,   127,  1051,\n",
              "          16,     7,     1,     2,  1190,   413,   169,   394,    11,\n",
              "         199,  2151,  1201,   245,  1167,   597,     7,   585,   157,\n",
              "         597,  2008,  6307,   394,   367,   890,  1200, 11940,   552,\n",
              "        2008,   151,  8702,   157,  2119,     2,    48,    39,   544,\n",
              "         597], dtype=int32)"
            ]
          },
          "metadata": {},
          "execution_count": 194
        }
      ]
    },
    {
      "cell_type": "code",
      "metadata": {
        "id": "zAu9nVFojJAS"
      },
      "source": [
        "vocab = toknizer.word_index\n",
        "vocab_size = len(toknizer.word_index)+1"
      ],
      "execution_count": 183,
      "outputs": []
    },
    {
      "cell_type": "code",
      "metadata": {
        "colab": {
          "base_uri": "https://localhost:8080/"
        },
        "id": "TcJpb77MjeE4",
        "outputId": "c749eb99-dbea-4dd8-d7ea-b07e831aea6f"
      },
      "source": [
        "vocab_size"
      ],
      "execution_count": 184,
      "outputs": [
        {
          "output_type": "execute_result",
          "data": {
            "text/plain": [
              "198984"
            ]
          },
          "metadata": {},
          "execution_count": 184
        }
      ]
    },
    {
      "cell_type": "code",
      "metadata": {
        "id": "2tH8rC0zjeDc"
      },
      "source": [
        "def get_weight_matrix():\n",
        "  weight_matrix = np.zeros((vocab_size, Dim))\n",
        "  for word, i in vocab.items():\n",
        "    weight_matrix[i] = w2v_model.wv[word] \n",
        "  return weight_matrix"
      ],
      "execution_count": 185,
      "outputs": []
    },
    {
      "cell_type": "code",
      "metadata": {
        "id": "D3UEq4xLldYL"
      },
      "source": [
        "embeddings_vec = get_weight_matrix()"
      ],
      "execution_count": 186,
      "outputs": []
    },
    {
      "cell_type": "code",
      "metadata": {
        "colab": {
          "base_uri": "https://localhost:8080/"
        },
        "id": "wfGnrEnqnXbA",
        "outputId": "59910e3b-75ef-4da4-9c1b-3171ff92fd7b"
      },
      "source": [
        "embeddings_vec.shape"
      ],
      "execution_count": 187,
      "outputs": [
        {
          "output_type": "execute_result",
          "data": {
            "text/plain": [
              "(198984, 100)"
            ]
          },
          "metadata": {},
          "execution_count": 187
        }
      ]
    },
    {
      "cell_type": "code",
      "metadata": {
        "id": "ZqAd6A31nXTq"
      },
      "source": [
        "model = Sequential()\n",
        "model.add(Embedding(vocab_size, output_dim=Dim, weights = [embeddings_vec], input_length= max_len, trainable = False))\n",
        "model.add(LSTM(units=128))\n",
        "model.add(Dense(1, activation='sigmoid'))\n",
        "model.compile(optimizer = 'adam', loss = 'binary_crossentropy', metrics = ['accuracy'])"
      ],
      "execution_count": 188,
      "outputs": []
    },
    {
      "cell_type": "code",
      "metadata": {
        "colab": {
          "base_uri": "https://localhost:8080/"
        },
        "id": "vUbvxK1jpCJI",
        "outputId": "b701c438-259b-4193-980e-f40741436b02"
      },
      "source": [
        "model.summary()"
      ],
      "execution_count": 189,
      "outputs": [
        {
          "output_type": "stream",
          "name": "stdout",
          "text": [
            "Model: \"sequential\"\n",
            "_________________________________________________________________\n",
            "Layer (type)                 Output Shape              Param #   \n",
            "=================================================================\n",
            "embedding (Embedding)        (None, 1000, 100)         19898400  \n",
            "_________________________________________________________________\n",
            "lstm (LSTM)                  (None, 128)               117248    \n",
            "_________________________________________________________________\n",
            "dense (Dense)                (None, 1)                 129       \n",
            "=================================================================\n",
            "Total params: 20,015,777\n",
            "Trainable params: 117,377\n",
            "Non-trainable params: 19,898,400\n",
            "_________________________________________________________________\n"
          ]
        }
      ]
    },
    {
      "cell_type": "code",
      "metadata": {
        "id": "E6vdhR6PqJG1"
      },
      "source": [
        "X_train, X_test, y_train, y_test = train_test_split(X, y)"
      ],
      "execution_count": 190,
      "outputs": []
    },
    {
      "cell_type": "code",
      "metadata": {
        "colab": {
          "base_uri": "https://localhost:8080/"
        },
        "id": "uQqmWNgAqI_h",
        "outputId": "44587324-48cb-435e-fc15-36edf1794b81"
      },
      "source": [
        "model.fit(X_train, y_train, validation_split=0.3, epochs=10)"
      ],
      "execution_count": 191,
      "outputs": [
        {
          "output_type": "stream",
          "name": "stdout",
          "text": [
            "Epoch 1/10\n",
            "642/642 [==============================] - 110s 161ms/step - loss: 0.1506 - accuracy: 0.9441 - val_loss: 0.1209 - val_accuracy: 0.9562\n",
            "Epoch 2/10\n",
            "642/642 [==============================] - 103s 160ms/step - loss: 0.0767 - accuracy: 0.9725 - val_loss: 0.0584 - val_accuracy: 0.9801\n",
            "Epoch 3/10\n",
            "642/642 [==============================] - 103s 160ms/step - loss: 0.0494 - accuracy: 0.9832 - val_loss: 0.0633 - val_accuracy: 0.9753\n",
            "Epoch 4/10\n",
            "642/642 [==============================] - 103s 160ms/step - loss: 0.0298 - accuracy: 0.9906 - val_loss: 0.0321 - val_accuracy: 0.9897\n",
            "Epoch 5/10\n",
            "642/642 [==============================] - 103s 161ms/step - loss: 0.0259 - accuracy: 0.9907 - val_loss: 0.0356 - val_accuracy: 0.9874\n",
            "Epoch 6/10\n",
            "642/642 [==============================] - 103s 161ms/step - loss: 0.0142 - accuracy: 0.9953 - val_loss: 0.0455 - val_accuracy: 0.9845\n",
            "Epoch 7/10\n",
            "642/642 [==============================] - 103s 160ms/step - loss: 0.0147 - accuracy: 0.9952 - val_loss: 0.0336 - val_accuracy: 0.9893\n",
            "Epoch 8/10\n",
            "642/642 [==============================] - 102s 159ms/step - loss: 0.0070 - accuracy: 0.9983 - val_loss: 0.0369 - val_accuracy: 0.9886\n",
            "Epoch 9/10\n",
            "642/642 [==============================] - 103s 161ms/step - loss: 0.0034 - accuracy: 0.9993 - val_loss: 0.0345 - val_accuracy: 0.9901\n",
            "Epoch 10/10\n",
            "642/642 [==============================] - 103s 161ms/step - loss: 0.0025 - accuracy: 0.9995 - val_loss: 0.0430 - val_accuracy: 0.9867\n"
          ]
        },
        {
          "output_type": "execute_result",
          "data": {
            "text/plain": [
              "<keras.callbacks.History at 0x7f11bacf9650>"
            ]
          },
          "metadata": {},
          "execution_count": 191
        }
      ]
    },
    {
      "cell_type": "code",
      "metadata": {
        "id": "hNT8X7i9tmWN"
      },
      "source": [
        "y_pred = (model.predict(X_test) >=0.5).astype(int)"
      ],
      "execution_count": 192,
      "outputs": []
    },
    {
      "cell_type": "code",
      "metadata": {
        "colab": {
          "base_uri": "https://localhost:8080/"
        },
        "id": "bdpp3Ubbt826",
        "outputId": "4ddae5f0-dfe6-4245-a543-f936b4f5349f"
      },
      "source": [
        "accuracy_score(y_test, y_pred)"
      ],
      "execution_count": 195,
      "outputs": [
        {
          "output_type": "execute_result",
          "data": {
            "text/plain": [
              "0.9888502454991817"
            ]
          },
          "metadata": {},
          "execution_count": 195
        }
      ]
    },
    {
      "cell_type": "code",
      "metadata": {
        "colab": {
          "base_uri": "https://localhost:8080/"
        },
        "id": "leqS0uFRu811",
        "outputId": "f5b413ee-07e5-4e2a-ad6a-c930073e2fe9"
      },
      "source": [
        "print(classification_report(y_test, y_pred))"
      ],
      "execution_count": 196,
      "outputs": [
        {
          "output_type": "stream",
          "name": "stdout",
          "text": [
            "              precision    recall  f1-score   support\n",
            "\n",
            "           0       1.00      0.98      0.99      4442\n",
            "           1       0.98      1.00      0.99      5334\n",
            "\n",
            "    accuracy                           0.99      9776\n",
            "   macro avg       0.99      0.99      0.99      9776\n",
            "weighted avg       0.99      0.99      0.99      9776\n",
            "\n"
          ]
        }
      ]
    },
    {
      "cell_type": "code",
      "metadata": {
        "id": "V-TpPAOh15-F"
      },
      "source": [
        "def process_input(input):\n",
        "  input = toknizer.texts_to_sequences(input)\n",
        "  input = pad_sequences(input, maxlen=max_len)\n",
        "  return input"
      ],
      "execution_count": 197,
      "outputs": []
    },
    {
      "cell_type": "code",
      "metadata": {
        "colab": {
          "base_uri": "https://localhost:8080/"
        },
        "id": "meSfOBB9xxPW",
        "outputId": "b355333b-e3b7-42f0-d7bd-88df73405782"
      },
      "source": [
        "fake_one= [\"Defence minister reminds Israel on Twitter that ‘Pakistan is a nuclear state too’ after fake story says Israel had threatened to destroy Pakistan\"]\n",
        "(model.predict(process_input(fake_one)) > 0.5).astype(int)"
      ],
      "execution_count": 205,
      "outputs": [
        {
          "output_type": "execute_result",
          "data": {
            "text/plain": [
              "array([[0]])"
            ]
          },
          "metadata": {},
          "execution_count": 205
        }
      ]
    },
    {
      "cell_type": "code",
      "metadata": {
        "colab": {
          "base_uri": "https://localhost:8080/"
        },
        "id": "lpaDUGwKyE50",
        "outputId": "8007626e-c21b-4f7c-a8aa-f63e759ceea3"
      },
      "source": [
        "true_one = [\"The BBC reported that Sammie-Jo Forde, 32, died in the Ulster hospital on Saturday, where she had been treated on the same ward as her mother, Heather Maddern, 55, who died on 31 August.\"]\n",
        "(model.predict(process_input(true_one)) > 0.5).astype(int)"
      ],
      "execution_count": 199,
      "outputs": [
        {
          "output_type": "execute_result",
          "data": {
            "text/plain": [
              "array([[1]])"
            ]
          },
          "metadata": {},
          "execution_count": 199
        }
      ]
    },
    {
      "cell_type": "code",
      "metadata": {
        "id": "Icnh11Mtz71t"
      },
      "source": [
        ""
      ],
      "execution_count": null,
      "outputs": []
    }
  ]
}